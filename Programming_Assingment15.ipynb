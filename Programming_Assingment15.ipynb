{
 "cells": [
  {
   "cell_type": "markdown",
   "id": "6bfde72e",
   "metadata": {},
   "source": [
    "### Question 1:\n",
    "Please write a program using generator to print the numbers which can be divisible by 5 and 7 between 0 and n in comma separated form while n is input by console.\n",
    "Example:\n",
    "If the following n is given as input to the program:\n",
    "100\n",
    "Then, the output of the program should be:\n",
    "0,35,70\n"
   ]
  },
  {
   "cell_type": "code",
   "execution_count": 6,
   "id": "617ac2ad",
   "metadata": {},
   "outputs": [],
   "source": [
    "def div(n):\n",
    "    try:\n",
    "        for i in range(n):\n",
    "            if (i%5==0 and i%7==0):\n",
    "                yield i\n",
    "    \n",
    "    except Exception as e:\n",
    "        print(\"Error msg: \",e)"
   ]
  },
  {
   "cell_type": "code",
   "execution_count": 11,
   "id": "78e8d204",
   "metadata": {},
   "outputs": [
    {
     "name": "stdout",
     "output_type": "stream",
     "text": [
      "0\n",
      "35\n",
      "70\n"
     ]
    }
   ],
   "source": [
    "lst=div(100)\n",
    "\n",
    "for i in lst:\n",
    "    print(i)"
   ]
  },
  {
   "cell_type": "markdown",
   "id": "3bc70a85",
   "metadata": {},
   "source": [
    "### Question 2:\n",
    "Please write a program using generator to print the even numbers between 0 and n in comma separated form while n is input by console.\n",
    "Example:\n",
    "If the following n is given as input to the program:\n",
    "10\n",
    "Then, the output of the program should be:\n",
    "0,2,4,6,8,10\n"
   ]
  },
  {
   "cell_type": "code",
   "execution_count": 13,
   "id": "937d656a",
   "metadata": {},
   "outputs": [],
   "source": [
    "def even(n):\n",
    "    try:\n",
    "        for i in range(n+1):\n",
    "            if i%2==0:\n",
    "                yield i\n",
    "    \n",
    "    except Exception as e:\n",
    "        print(\"Error msg: \",e)"
   ]
  },
  {
   "cell_type": "code",
   "execution_count": 14,
   "id": "250caf5f",
   "metadata": {},
   "outputs": [
    {
     "name": "stdout",
     "output_type": "stream",
     "text": [
      "0\n",
      "2\n",
      "4\n",
      "6\n",
      "8\n",
      "10\n"
     ]
    }
   ],
   "source": [
    "lst=even(10)\n",
    "\n",
    "for i in lst:\n",
    "    print(i)"
   ]
  },
  {
   "cell_type": "markdown",
   "id": "5ee110f1",
   "metadata": {},
   "source": [
    "### Question 3:\n",
    "The Fibonacci Sequence is computed based on the following formula:\n",
    "f(n)=0 if n=0\n",
    "f(n)=1 if n=1\n",
    "f(n)=f(n-1)+f(n-2) if n>1\n",
    "Please write a program using list comprehension to print the Fibonacci Sequence in comma separated form with a given n input by console.\n",
    "Example:\n",
    "If the following n is given as input to the program:\n",
    "7\n",
    "\n",
    "Then, the output of the program should be:\n",
    "0,1,1,2,3,5,8,13\n"
   ]
  },
  {
   "cell_type": "code",
   "execution_count": 45,
   "id": "a8ef13db",
   "metadata": {},
   "outputs": [],
   "source": [
    "def fib(n):\n",
    "    try:\n",
    "        lst=[0,1]\n",
    "        [lst.append(lst[i]+lst[i-1]) for i in range(1,n)]\n",
    "        return lst\n",
    "    except Exception as e:\n",
    "        print(\"Error msg: \",e)"
   ]
  },
  {
   "cell_type": "code",
   "execution_count": 46,
   "id": "b35f738e",
   "metadata": {},
   "outputs": [
    {
     "data": {
      "text/plain": [
       "[0, 1, 1, 2, 3, 5, 8, 13]"
      ]
     },
     "execution_count": 46,
     "metadata": {},
     "output_type": "execute_result"
    }
   ],
   "source": [
    "fib(7)"
   ]
  },
  {
   "cell_type": "markdown",
   "id": "8000f3d7",
   "metadata": {},
   "source": [
    "### Question 4:\n",
    "Assuming that we have some email addresses in the \"username@companyname.com\" format, please write program to print the user name of a given email address. Both user names and company names are composed of letters only.\n",
    "Example:\n",
    "If the following email address is given as input to the program:\n",
    "john@google.com\n",
    "Then, the output of the program should be:\n",
    "john\n"
   ]
  },
  {
   "cell_type": "code",
   "execution_count": 49,
   "id": "2a6c4314",
   "metadata": {},
   "outputs": [],
   "source": [
    "def user(email):\n",
    "    try:\n",
    "        name=email.split('@')\n",
    "        return name[0]\n",
    "    except Exception as e:\n",
    "        print(\"Error msg: \",e)"
   ]
  },
  {
   "cell_type": "code",
   "execution_count": 50,
   "id": "52dda72c",
   "metadata": {},
   "outputs": [
    {
     "data": {
      "text/plain": [
       "'john'"
      ]
     },
     "execution_count": 50,
     "metadata": {},
     "output_type": "execute_result"
    }
   ],
   "source": [
    "user('john@google.com')"
   ]
  },
  {
   "cell_type": "markdown",
   "id": "c202b0a5",
   "metadata": {},
   "source": [
    "### Question 5:\n",
    "Define a class named Shape and its subclass Square. The Square class has an init function which takes a length as argument. Both classes have a area function which can print the area of the shape where Shape's area is 0 by default.\n"
   ]
  },
  {
   "cell_type": "code",
   "execution_count": 55,
   "id": "077a48f0",
   "metadata": {},
   "outputs": [],
   "source": [
    "class Shape:\n",
    "    def area(self,a=0):\n",
    "        print(\"Area of the shape is:\",a)\n",
    "        \n",
    "class Square(Shape):\n",
    "    def __init__(self,length):\n",
    "        self.length=length\n",
    "        \n",
    "    def area(self):\n",
    "        print(\"Area of the Square is:\",self.length*self.length)"
   ]
  },
  {
   "cell_type": "code",
   "execution_count": 56,
   "id": "c1a50636",
   "metadata": {},
   "outputs": [],
   "source": [
    "a=Shape()"
   ]
  },
  {
   "cell_type": "code",
   "execution_count": 57,
   "id": "b2c24464",
   "metadata": {},
   "outputs": [
    {
     "name": "stdout",
     "output_type": "stream",
     "text": [
      "Area of the shape is: 0\n"
     ]
    }
   ],
   "source": [
    "a.area()"
   ]
  },
  {
   "cell_type": "code",
   "execution_count": 58,
   "id": "a0d81a84",
   "metadata": {},
   "outputs": [],
   "source": [
    "b=Square(4)"
   ]
  },
  {
   "cell_type": "code",
   "execution_count": 59,
   "id": "c39a7539",
   "metadata": {},
   "outputs": [
    {
     "name": "stdout",
     "output_type": "stream",
     "text": [
      "Area of the Square is: 16\n"
     ]
    }
   ],
   "source": [
    "b.area()"
   ]
  },
  {
   "cell_type": "code",
   "execution_count": null,
   "id": "5691e250",
   "metadata": {},
   "outputs": [],
   "source": []
  }
 ],
 "metadata": {
  "kernelspec": {
   "display_name": "Python 3 (ipykernel)",
   "language": "python",
   "name": "python3"
  },
  "language_info": {
   "codemirror_mode": {
    "name": "ipython",
    "version": 3
   },
   "file_extension": ".py",
   "mimetype": "text/x-python",
   "name": "python",
   "nbconvert_exporter": "python",
   "pygments_lexer": "ipython3",
   "version": "3.9.7"
  }
 },
 "nbformat": 4,
 "nbformat_minor": 5
}
