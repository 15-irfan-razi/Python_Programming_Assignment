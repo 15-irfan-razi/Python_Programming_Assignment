{
 "cells": [
  {
   "cell_type": "markdown",
   "id": "f49deae7",
   "metadata": {},
   "source": [
    "### 1.\tWrite a Python Program to Find the Factorial of a Number?"
   ]
  },
  {
   "cell_type": "code",
   "execution_count": 4,
   "id": "efc4b958",
   "metadata": {},
   "outputs": [],
   "source": [
    "def factorial(a):\n",
    "    try:\n",
    "        total=1\n",
    "        for i in range(a,0,-1):\n",
    "            total=total*i\n",
    "        return total\n",
    "    except Exception as e:\n",
    "        print('Error msg: {}'.format(e))"
   ]
  },
  {
   "cell_type": "code",
   "execution_count": 13,
   "id": "b27f0f61",
   "metadata": {},
   "outputs": [
    {
     "data": {
      "text/plain": [
       "120"
      ]
     },
     "execution_count": 13,
     "metadata": {},
     "output_type": "execute_result"
    }
   ],
   "source": [
    "factorial(5)"
   ]
  },
  {
   "cell_type": "markdown",
   "id": "de4015d0",
   "metadata": {},
   "source": [
    "### 2.\tWrite a Python Program to Display the multiplication Table?"
   ]
  },
  {
   "cell_type": "code",
   "execution_count": 16,
   "id": "23ef7bff",
   "metadata": {},
   "outputs": [],
   "source": [
    "def mul_table(a):\n",
    "    try:\n",
    "        for i in range(1,11):\n",
    "            print(\"{} X {} = {}\".format(a,i,a*i))\n",
    "    except Exception as e:\n",
    "        print('Error msg: {}'.format(e))"
   ]
  },
  {
   "cell_type": "code",
   "execution_count": 17,
   "id": "24b2769e",
   "metadata": {},
   "outputs": [
    {
     "name": "stdout",
     "output_type": "stream",
     "text": [
      "5 X 1 = 5\n",
      "5 X 2 = 10\n",
      "5 X 3 = 15\n",
      "5 X 4 = 20\n",
      "5 X 5 = 25\n",
      "5 X 6 = 30\n",
      "5 X 7 = 35\n",
      "5 X 8 = 40\n",
      "5 X 9 = 45\n",
      "5 X 10 = 50\n"
     ]
    }
   ],
   "source": [
    "mul_table(5)"
   ]
  },
  {
   "cell_type": "markdown",
   "id": "35caf6dc",
   "metadata": {},
   "source": [
    "### 3.\tWrite a Python Program to Print the Fibonacci sequence?"
   ]
  },
  {
   "cell_type": "code",
   "execution_count": 23,
   "id": "c17b1f6e",
   "metadata": {},
   "outputs": [],
   "source": [
    "def fibonacci():\n",
    "    try:\n",
    "        a=int(input(\"Enter the number of elements you want in fibonacci series: \"))\n",
    "        series=[0,1]\n",
    "        for i in range(a-2):\n",
    "            new=series[-1]+series[-2]\n",
    "            series.append(new)\n",
    "        return series\n",
    "    except Exception as e:\n",
    "        print('Error msg: {}'.format(e))    "
   ]
  },
  {
   "cell_type": "code",
   "execution_count": 24,
   "id": "2ebe689e",
   "metadata": {},
   "outputs": [
    {
     "name": "stdout",
     "output_type": "stream",
     "text": [
      "Enter the number of elements you want in fibonacci series: 8\n"
     ]
    },
    {
     "data": {
      "text/plain": [
       "[0, 1, 1, 2, 3, 5, 8, 13]"
      ]
     },
     "execution_count": 24,
     "metadata": {},
     "output_type": "execute_result"
    }
   ],
   "source": [
    "fibonacci()"
   ]
  },
  {
   "cell_type": "markdown",
   "id": "1714887d",
   "metadata": {},
   "source": [
    "### 4.\tWrite a Python Program to Check Armstrong Number?"
   ]
  },
  {
   "cell_type": "code",
   "execution_count": 38,
   "id": "96b54d59",
   "metadata": {},
   "outputs": [],
   "source": [
    "def armstrong():\n",
    "    try:\n",
    "        a=int(input('Enter a number to check if it is armstong number: '))\n",
    "        \n",
    "        summ=0\n",
    "        num=a\n",
    "        while num>0:\n",
    "            digit=num%10\n",
    "            summ+=digit**3\n",
    "            num//=10\n",
    "            \n",
    "        if a==summ:\n",
    "            print('It is an Armstrong number.')\n",
    "        else:\n",
    "            print('It is not an Armstrong number.')\n",
    "    except Exception as e:\n",
    "        print('Error msg: {}'.format(e))  "
   ]
  },
  {
   "cell_type": "code",
   "execution_count": 39,
   "id": "d50def6a",
   "metadata": {},
   "outputs": [
    {
     "name": "stdout",
     "output_type": "stream",
     "text": [
      "Enter a number to check if it is armstong number: 370\n",
      "It is an Armstrong number.\n"
     ]
    }
   ],
   "source": [
    "armstrong()"
   ]
  },
  {
   "cell_type": "code",
   "execution_count": 40,
   "id": "60cbc714",
   "metadata": {},
   "outputs": [
    {
     "name": "stdout",
     "output_type": "stream",
     "text": [
      "Enter a number to check if it is armstong number: 350\n",
      "It is not an Armstrong number.\n"
     ]
    }
   ],
   "source": [
    "armstrong()"
   ]
  },
  {
   "cell_type": "markdown",
   "id": "7cf4c404",
   "metadata": {},
   "source": [
    "### 5.\tWrite a Python Program to Find Armstrong Number in an Interval?"
   ]
  },
  {
   "cell_type": "code",
   "execution_count": 41,
   "id": "2fbec651",
   "metadata": {},
   "outputs": [],
   "source": [
    "def armstrong_interval(a,b):\n",
    "    try:\n",
    "        series=[]\n",
    "        \n",
    "        for i in range(a,b+1):\n",
    "            summ=0\n",
    "            num=i\n",
    "            while num>0:\n",
    "                digit=num%10\n",
    "                summ+=digit**3\n",
    "                num//=10\n",
    "            \n",
    "            if i==summ:\n",
    "                series.append(i)\n",
    "        return series\n",
    "    except Exception as e:\n",
    "        print('Error msg: {}'.format(e))  "
   ]
  },
  {
   "cell_type": "code",
   "execution_count": 42,
   "id": "19243341",
   "metadata": {},
   "outputs": [
    {
     "data": {
      "text/plain": [
       "[153, 370, 371, 407]"
      ]
     },
     "execution_count": 42,
     "metadata": {},
     "output_type": "execute_result"
    }
   ],
   "source": [
    "armstrong_interval(5,5000)"
   ]
  },
  {
   "cell_type": "markdown",
   "id": "7a3be859",
   "metadata": {},
   "source": [
    "### 6.\tWrite a Python Program to Find the Sum of Natural Numbers?"
   ]
  },
  {
   "cell_type": "code",
   "execution_count": 43,
   "id": "cd66cd53",
   "metadata": {},
   "outputs": [],
   "source": [
    "def sum_natural():\n",
    "    a=int(input('Enter the number till where you want sum of natural number: '))\n",
    "    \n",
    "    summ=0\n",
    "    for i in range(1,a+1):\n",
    "        summ+=i\n",
    "    return summ"
   ]
  },
  {
   "cell_type": "code",
   "execution_count": 44,
   "id": "47aa8278",
   "metadata": {},
   "outputs": [
    {
     "name": "stdout",
     "output_type": "stream",
     "text": [
      "Enter the number till where you want sum of natural number: 10\n"
     ]
    },
    {
     "data": {
      "text/plain": [
       "55"
      ]
     },
     "execution_count": 44,
     "metadata": {},
     "output_type": "execute_result"
    }
   ],
   "source": [
    "sum_natural()"
   ]
  },
  {
   "cell_type": "code",
   "execution_count": null,
   "id": "264cb969",
   "metadata": {},
   "outputs": [],
   "source": []
  }
 ],
 "metadata": {
  "kernelspec": {
   "display_name": "Python 3 (ipykernel)",
   "language": "python",
   "name": "python3"
  },
  "language_info": {
   "codemirror_mode": {
    "name": "ipython",
    "version": 3
   },
   "file_extension": ".py",
   "mimetype": "text/x-python",
   "name": "python",
   "nbconvert_exporter": "python",
   "pygments_lexer": "ipython3",
   "version": "3.9.7"
  }
 },
 "nbformat": 4,
 "nbformat_minor": 5
}
