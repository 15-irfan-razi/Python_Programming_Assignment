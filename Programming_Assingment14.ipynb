{
 "cells": [
  {
   "cell_type": "markdown",
   "id": "a567a6fc",
   "metadata": {},
   "source": [
    "### Question 1:\n",
    "\n",
    "Define a class with a generator which can iterate the numbers, which are divisible by 7, between a given range 0 and n.\n"
   ]
  },
  {
   "cell_type": "code",
   "execution_count": 18,
   "id": "1f994619",
   "metadata": {},
   "outputs": [],
   "source": [
    "class gen:\n",
    "    def divisible(self,n):\n",
    "        try:\n",
    "            lst=[]\n",
    "            for i in range(1,n):\n",
    "                if i%7==0:\n",
    "                    yield i\n",
    "                    \n",
    "        except Exception as e:\n",
    "            print(\"Error msg: \",e)"
   ]
  },
  {
   "cell_type": "code",
   "execution_count": 19,
   "id": "e6ccc1f7",
   "metadata": {},
   "outputs": [],
   "source": [
    "a=gen()"
   ]
  },
  {
   "cell_type": "code",
   "execution_count": 20,
   "id": "b41be022",
   "metadata": {},
   "outputs": [],
   "source": [
    "b=a.divisible(100)"
   ]
  },
  {
   "cell_type": "code",
   "execution_count": 21,
   "id": "ffbeb522",
   "metadata": {},
   "outputs": [
    {
     "data": {
      "text/plain": [
       "<generator object gen.divisible at 0x00000141788909E0>"
      ]
     },
     "execution_count": 21,
     "metadata": {},
     "output_type": "execute_result"
    }
   ],
   "source": [
    "b"
   ]
  },
  {
   "cell_type": "code",
   "execution_count": 22,
   "id": "8fe49d8b",
   "metadata": {},
   "outputs": [
    {
     "data": {
      "text/plain": [
       "7"
      ]
     },
     "execution_count": 22,
     "metadata": {},
     "output_type": "execute_result"
    }
   ],
   "source": [
    "next(b)"
   ]
  },
  {
   "cell_type": "markdown",
   "id": "44c25ab5",
   "metadata": {},
   "source": [
    "### Question 2:\n",
    "Write a program to compute the frequency of the words from the input. The output should output after sorting the key alphanumerically. \n",
    "\n",
    "Suppose the following input is supplied to the program:\n",
    "\n",
    "New to Python or choosing between Python 2 and Python 3? Read Python 2 or Python 3.\n",
    "\n",
    "Then, the output should be:\n",
    "\n",
    "2:2\n",
    "\n",
    "3.:1\n",
    "\n",
    "3?:1\n",
    "\n",
    "New:1\n",
    "\n",
    "Python:5\n",
    "\n",
    "Read:1\n",
    "\n",
    "and:1\n",
    "\n",
    "between:1\n",
    "\n",
    "choosing:1\n",
    "\n",
    "or:2\n",
    "\n",
    "to:1\n"
   ]
  },
  {
   "cell_type": "code",
   "execution_count": 35,
   "id": "61cb32bd",
   "metadata": {},
   "outputs": [],
   "source": [
    "def freq(a):\n",
    "    try:\n",
    "        lst=a.split(' ')\n",
    "        dct={}\n",
    "        for i in sorted(set(lst)):\n",
    "            dct[i]=lst.count(i)\n",
    "        return dct\n",
    "    except Exception as e:\n",
    "            print(\"Error msg: \",e)"
   ]
  },
  {
   "cell_type": "code",
   "execution_count": 36,
   "id": "1684000f",
   "metadata": {},
   "outputs": [
    {
     "data": {
      "text/plain": [
       "{'2': 2,\n",
       " '3.': 1,\n",
       " '3?': 1,\n",
       " 'New': 1,\n",
       " 'Python': 5,\n",
       " 'Read': 1,\n",
       " 'and': 1,\n",
       " 'between': 1,\n",
       " 'choosing': 1,\n",
       " 'or': 2,\n",
       " 'to': 1}"
      ]
     },
     "execution_count": 36,
     "metadata": {},
     "output_type": "execute_result"
    }
   ],
   "source": [
    "freq('New to Python or choosing between Python 2 and Python 3? Read Python 2 or Python 3.')"
   ]
  },
  {
   "cell_type": "markdown",
   "id": "29c19217",
   "metadata": {},
   "source": [
    "### Question 3:\n",
    "\n",
    "\n",
    "\n",
    "Define a class Person and its two child classes: Male and Female. All classes have a method \"getGender\" which can print \"Male\" for Male class and \"Female\" for Female class.\n"
   ]
  },
  {
   "cell_type": "code",
   "execution_count": 37,
   "id": "caacf46a",
   "metadata": {},
   "outputs": [],
   "source": [
    "class Person:\n",
    "    def getGender(self):\n",
    "        print('You are a person')\n",
    "        \n",
    "class Male(Person):\n",
    "    def getGender(self):\n",
    "        print('Male')\n",
    "        \n",
    "class Female(Person):\n",
    "    def getGender(self):\n",
    "        print('Female')"
   ]
  },
  {
   "cell_type": "code",
   "execution_count": 38,
   "id": "dffb9b68",
   "metadata": {},
   "outputs": [],
   "source": [
    "a=Male()"
   ]
  },
  {
   "cell_type": "code",
   "execution_count": 40,
   "id": "f15950e4",
   "metadata": {},
   "outputs": [
    {
     "name": "stdout",
     "output_type": "stream",
     "text": [
      "Male\n"
     ]
    }
   ],
   "source": [
    "a.getGender()"
   ]
  },
  {
   "cell_type": "code",
   "execution_count": 41,
   "id": "d24acdcf",
   "metadata": {},
   "outputs": [],
   "source": [
    "b=Female()"
   ]
  },
  {
   "cell_type": "code",
   "execution_count": 42,
   "id": "5c3700f8",
   "metadata": {},
   "outputs": [
    {
     "name": "stdout",
     "output_type": "stream",
     "text": [
      "Female\n"
     ]
    }
   ],
   "source": [
    "b.getGender()"
   ]
  },
  {
   "cell_type": "markdown",
   "id": "54e09a1a",
   "metadata": {},
   "source": [
    "### Question 4:\n",
    "Please write a program to generate all sentences where subject is in [\"I\", \"You\"] and verb is in [\"Play\", \"Love\"] and the object is in [\"Hockey\",\"Football\"].\n"
   ]
  },
  {
   "cell_type": "code",
   "execution_count": 44,
   "id": "0185db59",
   "metadata": {},
   "outputs": [],
   "source": [
    "def sentence_making():\n",
    "    try:\n",
    "        subject=[\"I\", \"You\"]\n",
    "        verb = [\"Play\", \"Love\"]\n",
    "        objct = [\"Hockey\",\"Football\"]\n",
    "        \n",
    "        lst=[]\n",
    "        for i in subject:\n",
    "            for j in verb:\n",
    "                for k in objct:\n",
    "                    lst.append(i+' '+j+' '+k+'.')\n",
    "                    \n",
    "        return lst\n",
    "    \n",
    "    except Exception as e:\n",
    "            print(\"Error msg: \",e)"
   ]
  },
  {
   "cell_type": "code",
   "execution_count": 45,
   "id": "e5d8ae44",
   "metadata": {},
   "outputs": [
    {
     "data": {
      "text/plain": [
       "['I Play Hockey.',\n",
       " 'I Play Football.',\n",
       " 'I Love Hockey.',\n",
       " 'I Love Football.',\n",
       " 'You Play Hockey.',\n",
       " 'You Play Football.',\n",
       " 'You Love Hockey.',\n",
       " 'You Love Football.']"
      ]
     },
     "execution_count": 45,
     "metadata": {},
     "output_type": "execute_result"
    }
   ],
   "source": [
    "sentence_making()"
   ]
  },
  {
   "cell_type": "markdown",
   "id": "acf8fc4a",
   "metadata": {},
   "source": [
    "### Question 5:\n",
    "Please write a program to compress and decompress the string \"hello world!hello world!hello world!hello world!\".\n"
   ]
  },
  {
   "cell_type": "code",
   "execution_count": 46,
   "id": "10fbf575",
   "metadata": {},
   "outputs": [],
   "source": [
    "import zlib\n",
    "def comp_decomp():\n",
    "    sentence='hello world!hello world!hello world!hello world!'\n",
    "    try:\n",
    "        code=sentence.encode()\n",
    "        comp=zlib.compress(code)\n",
    "        decomp=zlib.decompress(comp)\n",
    "        print(\"Compressed:\",comp)\n",
    "        print(\"Decompressed:\",decomp)\n",
    "    except Exception as e:\n",
    "            print(\"Error msg: \",e)"
   ]
  },
  {
   "cell_type": "code",
   "execution_count": 47,
   "id": "e0cc68c2",
   "metadata": {},
   "outputs": [
    {
     "name": "stdout",
     "output_type": "stream",
     "text": [
      "Compressed: b'x\\x9c\\xcbH\\xcd\\xc9\\xc9W(\\xcf/\\xcaIQ\\xcc \\x82\\r\\x00\\xbd[\\x11\\xf5'\n",
      "Decompressed: b'hello world!hello world!hello world!hello world!'\n"
     ]
    }
   ],
   "source": [
    "comp_decomp()"
   ]
  },
  {
   "cell_type": "markdown",
   "id": "3ca6ff9e",
   "metadata": {},
   "source": [
    "### Question 6:\n",
    "Please write a binary search function which searches an item in a sorted list. The function should return the index of element to be searched in the list.\n"
   ]
  },
  {
   "cell_type": "code",
   "execution_count": 55,
   "id": "c968eee3",
   "metadata": {},
   "outputs": [],
   "source": [
    "from bisect import bisect_left\n",
    " \n",
    "def binary(lst, x):\n",
    "    try:\n",
    "        i = bisect_left(lst, x)\n",
    "        if i != len(lst) and lst[i] == x:\n",
    "            return i\n",
    "        else:\n",
    "            return \"Not present in the list.\"\n",
    "        \n",
    "    except Exception as e:\n",
    "            print(\"Error msg: \",e)"
   ]
  },
  {
   "cell_type": "code",
   "execution_count": 56,
   "id": "d978c7b5",
   "metadata": {},
   "outputs": [],
   "source": [
    "lst=[1,2,3,4,7,9,11]"
   ]
  },
  {
   "cell_type": "code",
   "execution_count": 58,
   "id": "7bba2daa",
   "metadata": {},
   "outputs": [
    {
     "data": {
      "text/plain": [
       "3"
      ]
     },
     "execution_count": 58,
     "metadata": {},
     "output_type": "execute_result"
    }
   ],
   "source": [
    "binary(lst, 4)"
   ]
  }
 ],
 "metadata": {
  "kernelspec": {
   "display_name": "Python 3 (ipykernel)",
   "language": "python",
   "name": "python3"
  },
  "language_info": {
   "codemirror_mode": {
    "name": "ipython",
    "version": 3
   },
   "file_extension": ".py",
   "mimetype": "text/x-python",
   "name": "python",
   "nbconvert_exporter": "python",
   "pygments_lexer": "ipython3",
   "version": "3.9.7"
  }
 },
 "nbformat": 4,
 "nbformat_minor": 5
}
