{
 "cells": [
  {
   "cell_type": "markdown",
   "id": "4ee68bf3",
   "metadata": {},
   "source": [
    "### 1.\tWrite a Python program to Extract Unique values dictionary values?"
   ]
  },
  {
   "cell_type": "code",
   "execution_count": 1,
   "id": "46bc1c07",
   "metadata": {},
   "outputs": [],
   "source": [
    "def unique(a):\n",
    "    try:\n",
    "        res = list(sorted({ele for val in a.values() for ele in val}))\n",
    "        return res\n",
    "    except Exception as e:\n",
    "        print(\"Error msg: \",e)"
   ]
  },
  {
   "cell_type": "code",
   "execution_count": 6,
   "id": "c57b3fab",
   "metadata": {},
   "outputs": [],
   "source": [
    "dct={\n",
    "    'irfan':[1,5,0,1,1,9,9,1],\n",
    "    'mahesh':[0,6,0,3,1,9,9,7],\n",
    "    'nabi':[2,0,0,2,1,9,9,8],\n",
    "    'puneeth':[2,1,0,9,1,9,9,9]\n",
    "}"
   ]
  },
  {
   "cell_type": "code",
   "execution_count": 7,
   "id": "532a996f",
   "metadata": {},
   "outputs": [
    {
     "data": {
      "text/plain": [
       "[0, 1, 2, 3, 5, 6, 7, 8, 9]"
      ]
     },
     "execution_count": 7,
     "metadata": {},
     "output_type": "execute_result"
    }
   ],
   "source": [
    "unique(dct)"
   ]
  },
  {
   "cell_type": "markdown",
   "id": "33a15084",
   "metadata": {},
   "source": [
    "### 2.\tWrite a Python program to find the sum of all items in a dictionary?"
   ]
  },
  {
   "cell_type": "code",
   "execution_count": 23,
   "id": "cf7f0b04",
   "metadata": {},
   "outputs": [],
   "source": [
    "def sum_dct(a):\n",
    "    try:\n",
    "        summ=0\n",
    "        for i in a:\n",
    "            res = sum({ele for val in a.values() for ele in val})\n",
    "            summ+=res\n",
    "        return summ\n",
    "    except Exception as e:\n",
    "        print(\"Error msg: \",e)"
   ]
  },
  {
   "cell_type": "code",
   "execution_count": 24,
   "id": "77bfbaf9",
   "metadata": {},
   "outputs": [],
   "source": [
    "dct={\n",
    "    'irfan':[1,5,0,1,1,9,9,1],\n",
    "    'mahesh':[0,6,0,3,1,9,9,7],\n",
    "    'nabi':[2,0,0,2,1,9,9,8],\n",
    "    'puneeth':[2,1,0,9,1,9,9,9]\n",
    "}"
   ]
  },
  {
   "cell_type": "code",
   "execution_count": 25,
   "id": "e44306b3",
   "metadata": {},
   "outputs": [
    {
     "data": {
      "text/plain": [
       "164"
      ]
     },
     "execution_count": 25,
     "metadata": {},
     "output_type": "execute_result"
    }
   ],
   "source": [
    "sum_dct(dct)"
   ]
  },
  {
   "cell_type": "markdown",
   "id": "a5cf5273",
   "metadata": {},
   "source": [
    "### 3.\tWrite a Python program to Merging two Dictionaries?"
   ]
  },
  {
   "cell_type": "code",
   "execution_count": 68,
   "id": "01f86242",
   "metadata": {},
   "outputs": [],
   "source": [
    "def merge_dct(dict1, dict2):\n",
    "    try:\n",
    "        new_dct= {**dict1, **dict2}\n",
    "        return new_dct\n",
    "    except Exception as e:\n",
    "        print(\"Error msg: \",e)"
   ]
  },
  {
   "cell_type": "code",
   "execution_count": 69,
   "id": "4dd7ced1",
   "metadata": {},
   "outputs": [],
   "source": [
    "dct1={\n",
    "    'irfan':[1,5,0,1,1,9,9,1],\n",
    "    'mahesh':[0,6,0,3,1,9,9,7],\n",
    "    'nabi':[2,0,0,2,1,9,9,8],\n",
    "    'puneeth':[2,1,0,9,1,9,9,9]\n",
    "}"
   ]
  },
  {
   "cell_type": "code",
   "execution_count": 70,
   "id": "00d29aa3",
   "metadata": {},
   "outputs": [],
   "source": [
    "dct2={\n",
    "    'asgar':[0,9,0,2,1,9,8,9],\n",
    "    'ashna':[1,4,0,2,1,9,8,7]\n",
    "    }"
   ]
  },
  {
   "cell_type": "code",
   "execution_count": 72,
   "id": "bdfa9c5c",
   "metadata": {},
   "outputs": [
    {
     "data": {
      "text/plain": [
       "{'irfan': [1, 5, 0, 1, 1, 9, 9, 1],\n",
       " 'mahesh': [0, 6, 0, 3, 1, 9, 9, 7],\n",
       " 'nabi': [2, 0, 0, 2, 1, 9, 9, 8],\n",
       " 'puneeth': [2, 1, 0, 9, 1, 9, 9, 9],\n",
       " 'asgar': [0, 9, 0, 2, 1, 9, 8, 9],\n",
       " 'ashna': [1, 4, 0, 2, 1, 9, 8, 7]}"
      ]
     },
     "execution_count": 72,
     "metadata": {},
     "output_type": "execute_result"
    }
   ],
   "source": [
    "merge_dct(dct1,dct2)"
   ]
  },
  {
   "cell_type": "markdown",
   "id": "4c9e5f40",
   "metadata": {},
   "source": [
    "### 4.\tWrite a Python program to convert key-values list to flat dictionary?"
   ]
  },
  {
   "cell_type": "code",
   "execution_count": 75,
   "id": "6b56df0e",
   "metadata": {},
   "outputs": [],
   "source": [
    "def flat_dct(dct):\n",
    "    try:\n",
    "        res = dict(zip(dct['name'], dct['surname']))\n",
    "        return res\n",
    "    except Exception as e:\n",
    "        print(\"Error msg: \",e)"
   ]
  },
  {
   "cell_type": "code",
   "execution_count": 76,
   "id": "02cf36a5",
   "metadata": {},
   "outputs": [],
   "source": [
    "dct1={\n",
    "    'name': ['irfan','mahesh','nabisab','puneeth'],\n",
    "    'surname': ['razi','kumar','valikar','shettigar']\n",
    "}"
   ]
  },
  {
   "cell_type": "code",
   "execution_count": 77,
   "id": "3733076f",
   "metadata": {},
   "outputs": [
    {
     "data": {
      "text/plain": [
       "{'irfan': 'razi',\n",
       " 'mahesh': 'kumar',\n",
       " 'nabisab': 'valikar',\n",
       " 'puneeth': 'shettigar'}"
      ]
     },
     "execution_count": 77,
     "metadata": {},
     "output_type": "execute_result"
    }
   ],
   "source": [
    "flat_dct(dct1)"
   ]
  },
  {
   "cell_type": "markdown",
   "id": "6e8de5f8",
   "metadata": {},
   "source": [
    "### 5.\tWrite a Python program to insertion at the beginning in OrderedDict?"
   ]
  },
  {
   "cell_type": "code",
   "execution_count": 87,
   "id": "dd48489c",
   "metadata": {},
   "outputs": [],
   "source": [
    "from collections import OrderedDict\n",
    "\n",
    "def insertion(dct,key,value):\n",
    "    try:\n",
    "        new_dict=OrderedDict(dct)\n",
    "        new_dict.update({key:value})\n",
    "        new_dict.move_to_end(key, last=False)\n",
    "        return new_dict\n",
    "    except Exception as e:\n",
    "        print(\"Error msg: \",e)"
   ]
  },
  {
   "cell_type": "code",
   "execution_count": 88,
   "id": "6748673e",
   "metadata": {},
   "outputs": [],
   "source": [
    "dct1={\n",
    "    'name': ['irfan','mahesh','nabisab','puneeth'],\n",
    "    'surname': ['razi','kumar','valikar','shettigar']\n",
    "}"
   ]
  },
  {
   "cell_type": "code",
   "execution_count": 89,
   "id": "9b20d73e",
   "metadata": {},
   "outputs": [],
   "source": [
    "key='number'\n",
    "value=['15011992', '06031997', '20021998', '21091999']"
   ]
  },
  {
   "cell_type": "code",
   "execution_count": 90,
   "id": "e753a596",
   "metadata": {},
   "outputs": [
    {
     "data": {
      "text/plain": [
       "OrderedDict([('number', ['15011992', '06031997', '20021998', '21091999']),\n",
       "             ('name', ['irfan', 'mahesh', 'nabisab', 'puneeth']),\n",
       "             ('surname', ['razi', 'kumar', 'valikar', 'shettigar'])])"
      ]
     },
     "execution_count": 90,
     "metadata": {},
     "output_type": "execute_result"
    }
   ],
   "source": [
    "insertion(dct1,key,value)"
   ]
  },
  {
   "cell_type": "markdown",
   "id": "b7de6bac",
   "metadata": {},
   "source": [
    "### 6.\tWrite a Python program to check order of character in string using OrderedDict()?"
   ]
  },
  {
   "cell_type": "code",
   "execution_count": 96,
   "id": "88078ce0",
   "metadata": {},
   "outputs": [],
   "source": [
    "from collections import OrderedDict \n",
    "  \n",
    "def checkorder(a, order):\n",
    "    try:  \n",
    "        dct = OrderedDict.fromkeys(a) \n",
    "        length = 0\n",
    "        for key,value in dct.items(): \n",
    "            if (key == order[length]): \n",
    "                length+=1\n",
    "            if (length == (len(order))): \n",
    "                return 'True' \n",
    "        return 'False'\n",
    "    except Exception as e:\n",
    "        print(\"Error msg: \",e)"
   ]
  },
  {
   "cell_type": "code",
   "execution_count": 105,
   "id": "7ec80ae7",
   "metadata": {},
   "outputs": [
    {
     "data": {
      "text/plain": [
       "'True'"
      ]
     },
     "execution_count": 105,
     "metadata": {},
     "output_type": "execute_result"
    }
   ],
   "source": [
    "checkorder('dil_ka_dariya_beh_hi_gaya','dl')"
   ]
  },
  {
   "cell_type": "markdown",
   "id": "a5993498",
   "metadata": {},
   "source": [
    "### 7.\tWrite a Python program to sort Python Dictionaries by Key or Value?"
   ]
  },
  {
   "cell_type": "code",
   "execution_count": 145,
   "id": "d9731aac",
   "metadata": {},
   "outputs": [],
   "source": [
    "def sort(dct):\n",
    "    try:\n",
    "        new_dct_key_sorted={}\n",
    "        for i in sorted(dct.keys()):\n",
    "            new_dct_key_sorted[i]=dct[i]\n",
    "            \n",
    "        new_dct_value_sorted={}\n",
    "        for key,value in zip(dct.keys(), sorted(dct.values())):\n",
    "            print(key,value)\n",
    "            new_dct_value_sorted[key]=value\n",
    "            \n",
    "        return new_dct_key_sorted, new_dct_value_sorted\n",
    "    except Exception as e:\n",
    "        print(\"Error msg: \",e)       "
   ]
  },
  {
   "cell_type": "code",
   "execution_count": 146,
   "id": "62a9bb40",
   "metadata": {},
   "outputs": [],
   "source": [
    "dct1={\n",
    "    5:23,\n",
    "    8:58,\n",
    "    1:21,\n",
    "    4:12,\n",
    "    7:7,\n",
    "    3:98,\n",
    "    2:500,\n",
    "    6:55\n",
    "}"
   ]
  },
  {
   "cell_type": "code",
   "execution_count": 147,
   "id": "5fd5dfd6",
   "metadata": {},
   "outputs": [
    {
     "name": "stdout",
     "output_type": "stream",
     "text": [
      "5 7\n",
      "8 12\n",
      "1 21\n",
      "4 23\n",
      "7 55\n",
      "3 58\n",
      "2 98\n",
      "6 500\n"
     ]
    },
    {
     "data": {
      "text/plain": [
       "({1: 21, 2: 500, 3: 98, 4: 12, 5: 23, 6: 55, 7: 7, 8: 58},\n",
       " {5: 7, 8: 12, 1: 21, 4: 23, 7: 55, 3: 58, 2: 98, 6: 500})"
      ]
     },
     "execution_count": 147,
     "metadata": {},
     "output_type": "execute_result"
    }
   ],
   "source": [
    "sort(dct1)"
   ]
  }
 ],
 "metadata": {
  "kernelspec": {
   "display_name": "Python 3 (ipykernel)",
   "language": "python",
   "name": "python3"
  },
  "language_info": {
   "codemirror_mode": {
    "name": "ipython",
    "version": 3
   },
   "file_extension": ".py",
   "mimetype": "text/x-python",
   "name": "python",
   "nbconvert_exporter": "python",
   "pygments_lexer": "ipython3",
   "version": "3.9.7"
  }
 },
 "nbformat": 4,
 "nbformat_minor": 5
}
