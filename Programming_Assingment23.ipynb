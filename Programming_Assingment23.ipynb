{
 "cells": [
  {
   "cell_type": "markdown",
   "id": "cea6e37b",
   "metadata": {},
   "source": [
    "### Question 1\n",
    "Create a function that takes a number as an argument and returns True or False depending on whether the number is symmetrical or not. A number is symmetrical when it is the same as its reverse.\n",
    "Examples\n",
    "is_symmetrical(7227) ➞ True\n",
    "\n",
    "is_symmetrical(12567) ➞ False\n",
    "\n",
    "is_symmetrical(44444444) ➞ True\n",
    "\n",
    "is_symmetrical(9939) ➞ False\n",
    "\n",
    "is_symmetrical(1112111) ➞ True\n"
   ]
  },
  {
   "cell_type": "code",
   "execution_count": 1,
   "id": "39344ccf",
   "metadata": {},
   "outputs": [],
   "source": [
    "def is_symmetrical(num):\n",
    "    try:\n",
    "        n=str(num)\n",
    "        lst=[]\n",
    "        for i in n:\n",
    "            lst.append(i)\n",
    "        rev_lst=lst[::-1]\n",
    "        if rev_lst==lst:\n",
    "            return True\n",
    "        else:\n",
    "            return False\n",
    "    except Exception as e:\n",
    "        print(\"Error msg:\",e)"
   ]
  },
  {
   "cell_type": "code",
   "execution_count": 2,
   "id": "dea51019",
   "metadata": {},
   "outputs": [
    {
     "data": {
      "text/plain": [
       "True"
      ]
     },
     "execution_count": 2,
     "metadata": {},
     "output_type": "execute_result"
    }
   ],
   "source": [
    "is_symmetrical(7227) #➞ True"
   ]
  },
  {
   "cell_type": "code",
   "execution_count": 3,
   "id": "178bb6dd",
   "metadata": {},
   "outputs": [
    {
     "data": {
      "text/plain": [
       "False"
      ]
     },
     "execution_count": 3,
     "metadata": {},
     "output_type": "execute_result"
    }
   ],
   "source": [
    "is_symmetrical(12567) #➞ False"
   ]
  },
  {
   "cell_type": "code",
   "execution_count": 4,
   "id": "d7fa45fa",
   "metadata": {},
   "outputs": [
    {
     "data": {
      "text/plain": [
       "True"
      ]
     },
     "execution_count": 4,
     "metadata": {},
     "output_type": "execute_result"
    }
   ],
   "source": [
    "is_symmetrical(44444444) #➞ True"
   ]
  },
  {
   "cell_type": "code",
   "execution_count": 5,
   "id": "b0314169",
   "metadata": {},
   "outputs": [
    {
     "data": {
      "text/plain": [
       "False"
      ]
     },
     "execution_count": 5,
     "metadata": {},
     "output_type": "execute_result"
    }
   ],
   "source": [
    "is_symmetrical(9939) #➞ False"
   ]
  },
  {
   "cell_type": "code",
   "execution_count": 6,
   "id": "e0032999",
   "metadata": {},
   "outputs": [
    {
     "data": {
      "text/plain": [
       "True"
      ]
     },
     "execution_count": 6,
     "metadata": {},
     "output_type": "execute_result"
    }
   ],
   "source": [
    "is_symmetrical(1112111) #➞ True"
   ]
  },
  {
   "cell_type": "markdown",
   "id": "f10fed4b",
   "metadata": {},
   "source": [
    "### Question 2\n",
    "Given a string of numbers separated by a comma and space, return the product of the numbers.\n",
    "Examples\n",
    "multiply_nums(\"2, 3\") ➞ 6\n",
    "\n",
    "multiply_nums(\"1, 2, 3, 4\") ➞ 24\n",
    "\n",
    "multiply_nums(\"54, 75, 453, 0\") ➞ 0\n",
    "\n",
    "multiply_nums(\"10, -2\") ➞ -20\n"
   ]
  },
  {
   "cell_type": "code",
   "execution_count": 7,
   "id": "0bd6313c",
   "metadata": {},
   "outputs": [],
   "source": [
    "def multiply_nums(string):\n",
    "    try:\n",
    "        lst=string.split(',')\n",
    "        mul=1\n",
    "        for i in lst:\n",
    "            mul*=int(i)\n",
    "        return mul\n",
    "    except Exception as e:\n",
    "        print(\"Error msg:\",e)"
   ]
  },
  {
   "cell_type": "code",
   "execution_count": 8,
   "id": "f2279990",
   "metadata": {},
   "outputs": [
    {
     "data": {
      "text/plain": [
       "6"
      ]
     },
     "execution_count": 8,
     "metadata": {},
     "output_type": "execute_result"
    }
   ],
   "source": [
    "multiply_nums(\"2, 3\") #➞ 6"
   ]
  },
  {
   "cell_type": "code",
   "execution_count": 9,
   "id": "8b14d102",
   "metadata": {},
   "outputs": [
    {
     "data": {
      "text/plain": [
       "24"
      ]
     },
     "execution_count": 9,
     "metadata": {},
     "output_type": "execute_result"
    }
   ],
   "source": [
    "multiply_nums(\"1, 2, 3, 4\") #➞ 24"
   ]
  },
  {
   "cell_type": "code",
   "execution_count": 10,
   "id": "8a295fb2",
   "metadata": {},
   "outputs": [
    {
     "data": {
      "text/plain": [
       "0"
      ]
     },
     "execution_count": 10,
     "metadata": {},
     "output_type": "execute_result"
    }
   ],
   "source": [
    "multiply_nums(\"54, 75, 453, 0\") #➞ 0"
   ]
  },
  {
   "cell_type": "code",
   "execution_count": 11,
   "id": "8d9759be",
   "metadata": {},
   "outputs": [
    {
     "data": {
      "text/plain": [
       "-20"
      ]
     },
     "execution_count": 11,
     "metadata": {},
     "output_type": "execute_result"
    }
   ],
   "source": [
    "multiply_nums(\"10, -2\") #➞ -20"
   ]
  },
  {
   "cell_type": "markdown",
   "id": "ae6ac2c2",
   "metadata": {},
   "source": [
    "### Question 3\n",
    "Create a function that squares every digit of a number.\n",
    "Examples\n",
    "square_digits(9119) ➞ 811181\n",
    "\n",
    "square_digits(2483) ➞ 416649\n",
    "\n",
    "square_digits(3212) ➞ 9414\n",
    "\n",
    "Notes\n",
    "\n",
    "The function receives an integer and must return an integer.\n"
   ]
  },
  {
   "cell_type": "code",
   "execution_count": 21,
   "id": "54caa894",
   "metadata": {},
   "outputs": [],
   "source": [
    "def square_digits(num):\n",
    "    try:\n",
    "        string=str(num)\n",
    "        lst=[]\n",
    "        for i in string:\n",
    "            lst.append(str((int(i))**2))\n",
    "        new_string=''    \n",
    "        for i in lst:\n",
    "            new_string+=i\n",
    "        return int(new_string)\n",
    "    except Exception as e:\n",
    "        print(\"Error msg:\",e)"
   ]
  },
  {
   "cell_type": "code",
   "execution_count": 22,
   "id": "1a17cb7a",
   "metadata": {},
   "outputs": [
    {
     "data": {
      "text/plain": [
       "811181"
      ]
     },
     "execution_count": 22,
     "metadata": {},
     "output_type": "execute_result"
    }
   ],
   "source": [
    "square_digits(9119) #➞ 811181"
   ]
  },
  {
   "cell_type": "code",
   "execution_count": 23,
   "id": "0700de80",
   "metadata": {},
   "outputs": [
    {
     "data": {
      "text/plain": [
       "416649"
      ]
     },
     "execution_count": 23,
     "metadata": {},
     "output_type": "execute_result"
    }
   ],
   "source": [
    "square_digits(2483) #➞ 416649"
   ]
  },
  {
   "cell_type": "code",
   "execution_count": 24,
   "id": "3a65f450",
   "metadata": {},
   "outputs": [
    {
     "data": {
      "text/plain": [
       "9414"
      ]
     },
     "execution_count": 24,
     "metadata": {},
     "output_type": "execute_result"
    }
   ],
   "source": [
    "square_digits(3212) #➞ 9414"
   ]
  },
  {
   "cell_type": "markdown",
   "id": "8f97b5f3",
   "metadata": {},
   "source": [
    "### Question 4\n",
    "Create a function that sorts a list and removes all duplicate items from it.\n",
    "Examples\n",
    "setify([1, 3, 3, 5, 5]) ➞ [1, 3, 5]\n",
    "\n",
    "setify([4, 4, 4, 4]) ➞ [4]\n",
    "\n",
    "setify([5, 7, 8, 9, 10, 15]) ➞ [5, 7, 8, 9, 10, 15]\n",
    "\n",
    "setify([3, 3, 3, 2, 1]) ➞ [1, 2, 3]\n"
   ]
  },
  {
   "cell_type": "code",
   "execution_count": 35,
   "id": "b55d8679",
   "metadata": {},
   "outputs": [],
   "source": [
    "def setify(lst):\n",
    "    try:\n",
    "        dct={}\n",
    "        for i in lst:\n",
    "            dct[i]=lst.count(i)\n",
    "        \n",
    "        new_lst=[]\n",
    "        for i in dct.keys():\n",
    "            new_lst.append(i)\n",
    "        return sorted(new_lst)\n",
    "    except Exception as e:\n",
    "        print(\"Error msg:\",e)"
   ]
  },
  {
   "cell_type": "code",
   "execution_count": 36,
   "id": "cc7233d4",
   "metadata": {},
   "outputs": [
    {
     "data": {
      "text/plain": [
       "[1, 3, 5]"
      ]
     },
     "execution_count": 36,
     "metadata": {},
     "output_type": "execute_result"
    }
   ],
   "source": [
    "setify([1, 3, 3, 5, 5]) #➞ [1, 3, 5]"
   ]
  },
  {
   "cell_type": "code",
   "execution_count": 37,
   "id": "d04b0297",
   "metadata": {},
   "outputs": [
    {
     "data": {
      "text/plain": [
       "[4]"
      ]
     },
     "execution_count": 37,
     "metadata": {},
     "output_type": "execute_result"
    }
   ],
   "source": [
    "setify([4, 4, 4, 4]) #➞ [4]"
   ]
  },
  {
   "cell_type": "code",
   "execution_count": 38,
   "id": "850ca12e",
   "metadata": {},
   "outputs": [
    {
     "data": {
      "text/plain": [
       "[5, 7, 8, 9, 10, 15]"
      ]
     },
     "execution_count": 38,
     "metadata": {},
     "output_type": "execute_result"
    }
   ],
   "source": [
    "setify([5, 7, 8, 9, 10, 15]) #➞ [5, 7, 8, 9, 10, 15]"
   ]
  },
  {
   "cell_type": "code",
   "execution_count": 39,
   "id": "dc4c8202",
   "metadata": {},
   "outputs": [
    {
     "data": {
      "text/plain": [
       "[1, 2, 3]"
      ]
     },
     "execution_count": 39,
     "metadata": {},
     "output_type": "execute_result"
    }
   ],
   "source": [
    "setify([3, 3, 3, 2, 1]) #➞ [1, 2, 3]"
   ]
  },
  {
   "cell_type": "markdown",
   "id": "ac6350aa",
   "metadata": {},
   "source": [
    "### Question 5\n",
    "Create a function that returns the mean of all digits.\n",
    "\n",
    "Examples\n",
    "\n",
    "mean(42) ➞ 3\n",
    "\n",
    "mean(12345) ➞ 3\n",
    "\n",
    "mean(666) ➞ 6\n",
    "\n",
    "Notes\n",
    "\n",
    "•\tThe mean of all digits is the sum of digits / how many digits there are (e.g. mean of digits in 512 is (5+1+2)/3(number of digits) = 8/3=2).\n",
    "\n",
    "•\tThe mean will always be an integer.\n"
   ]
  },
  {
   "cell_type": "code",
   "execution_count": 45,
   "id": "c2e05a66",
   "metadata": {},
   "outputs": [],
   "source": [
    "def mean(num):\n",
    "    try:\n",
    "        string=str(num)\n",
    "        lst=[]\n",
    "        for i in string:\n",
    "            lst.append(int(i))\n",
    "        return int(sum(lst)/len(lst))\n",
    "    except Exception as e:\n",
    "        print(\"Error msg:\",e)"
   ]
  },
  {
   "cell_type": "code",
   "execution_count": 46,
   "id": "d4f0a45c",
   "metadata": {},
   "outputs": [
    {
     "data": {
      "text/plain": [
       "3"
      ]
     },
     "execution_count": 46,
     "metadata": {},
     "output_type": "execute_result"
    }
   ],
   "source": [
    "mean(42) #➞ 3"
   ]
  },
  {
   "cell_type": "code",
   "execution_count": 47,
   "id": "d6fd1151",
   "metadata": {},
   "outputs": [
    {
     "data": {
      "text/plain": [
       "3"
      ]
     },
     "execution_count": 47,
     "metadata": {},
     "output_type": "execute_result"
    }
   ],
   "source": [
    "mean(12345) #➞ 3"
   ]
  },
  {
   "cell_type": "code",
   "execution_count": 48,
   "id": "4c0bd672",
   "metadata": {},
   "outputs": [
    {
     "data": {
      "text/plain": [
       "6"
      ]
     },
     "execution_count": 48,
     "metadata": {},
     "output_type": "execute_result"
    }
   ],
   "source": [
    "mean(666) #➞ 6"
   ]
  }
 ],
 "metadata": {
  "kernelspec": {
   "display_name": "Python 3 (ipykernel)",
   "language": "python",
   "name": "python3"
  },
  "language_info": {
   "codemirror_mode": {
    "name": "ipython",
    "version": 3
   },
   "file_extension": ".py",
   "mimetype": "text/x-python",
   "name": "python",
   "nbconvert_exporter": "python",
   "pygments_lexer": "ipython3",
   "version": "3.9.7"
  }
 },
 "nbformat": 4,
 "nbformat_minor": 5
}
