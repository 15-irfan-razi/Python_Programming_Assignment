{
 "cells": [
  {
   "cell_type": "markdown",
   "id": "b95e2c5a",
   "metadata": {},
   "source": [
    "### 1.\tWrite a Python program to find words which are greater than given length k?"
   ]
  },
  {
   "cell_type": "code",
   "execution_count": 15,
   "id": "e75a6249",
   "metadata": {},
   "outputs": [],
   "source": [
    "def words(k):\n",
    "    try:\n",
    "        a= input(\"Enter a word: \")\n",
    "        if len(a)>k:\n",
    "            print(\"The given word is greater than length k={}\".format(k))\n",
    "        else:\n",
    "            print(\"The given word is not greater length than k={}\".format(k))\n",
    "            \n",
    "    except Exception as e:\n",
    "        print(\"Error msg: {}\".format(e))"
   ]
  },
  {
   "cell_type": "code",
   "execution_count": 7,
   "id": "0d4c9a01",
   "metadata": {},
   "outputs": [
    {
     "name": "stdout",
     "output_type": "stream",
     "text": [
      "Enter a word: irfan\n",
      "The given word is not greater length than k=6\n"
     ]
    }
   ],
   "source": [
    "words(6)"
   ]
  },
  {
   "cell_type": "code",
   "execution_count": 8,
   "id": "6df08eda",
   "metadata": {},
   "outputs": [
    {
     "name": "stdout",
     "output_type": "stream",
     "text": [
      "Enter a word: birthday\n",
      "The given word is greater than length k=6\n"
     ]
    }
   ],
   "source": [
    "words(6)"
   ]
  },
  {
   "cell_type": "markdown",
   "id": "e4f3e6f3",
   "metadata": {},
   "source": [
    "### 2.\tWrite a Python program for removing i-th character from a string?"
   ]
  },
  {
   "cell_type": "code",
   "execution_count": 18,
   "id": "e5ec20c4",
   "metadata": {},
   "outputs": [],
   "source": [
    "def remove_character():\n",
    "    try:\n",
    "        a=input(\"Enter a string: \")\n",
    "        k=int(input(\"Enter the i-th number for removing from the string: \"))\n",
    "\n",
    "        string=\"\"\n",
    "        for i in range(len(a)):\n",
    "            if i==k:\n",
    "                pass\n",
    "            else:\n",
    "                string+=a[i]\n",
    "        return string\n",
    "    except Exception as e:\n",
    "        print(\"Error msg: {}\".format(e))"
   ]
  },
  {
   "cell_type": "code",
   "execution_count": 19,
   "id": "d8301bf0",
   "metadata": {},
   "outputs": [
    {
     "name": "stdout",
     "output_type": "stream",
     "text": [
      "Enter a string: irfan_razi\n",
      "Enter the i-th number for removing from the string: 4\n"
     ]
    },
    {
     "data": {
      "text/plain": [
       "'irfa_razi'"
      ]
     },
     "execution_count": 19,
     "metadata": {},
     "output_type": "execute_result"
    }
   ],
   "source": [
    "remove_character()"
   ]
  },
  {
   "cell_type": "markdown",
   "id": "340ac3ea",
   "metadata": {},
   "source": [
    "### 3.\tWrite a Python program to split and join a string?"
   ]
  },
  {
   "cell_type": "code",
   "execution_count": 21,
   "id": "7fa06722",
   "metadata": {},
   "outputs": [],
   "source": [
    "def split_and_join(a):\n",
    "    try:\n",
    "        split_str=a.split(' ')\n",
    "        print(\"String after splitting: \",split_str)\n",
    "        \n",
    "        join_str=' '.join(split_str)\n",
    "        print(\"String after joining: \",join_str)\n",
    "        \n",
    "    except Exception as e:\n",
    "        print(\"Error msg: {}\".format(e))"
   ]
  },
  {
   "cell_type": "code",
   "execution_count": 22,
   "id": "d4e9558b",
   "metadata": {},
   "outputs": [
    {
     "name": "stdout",
     "output_type": "stream",
     "text": [
      "String after splitting:  ['I', 'am', 'having', 'a', 'great', 'day.']\n",
      "String after joining:  I am having a great day.\n"
     ]
    }
   ],
   "source": [
    "split_and_join(\"I am having a great day.\")"
   ]
  },
  {
   "cell_type": "markdown",
   "id": "2dda08fe",
   "metadata": {},
   "source": [
    "### 4.\tWrite a Python to check if a given string is binary string or not?"
   ]
  },
  {
   "cell_type": "code",
   "execution_count": 32,
   "id": "1f016609",
   "metadata": {},
   "outputs": [],
   "source": [
    "def binary_str(a):\n",
    "    s=['0','1']\n",
    "    try:\n",
    "        count=0\n",
    "        for i in range(len(a)):\n",
    "            if a[i] not in s:\n",
    "                count+=1\n",
    "        if count>0:\n",
    "            print(\"It is not a binary string.\")\n",
    "        else:\n",
    "            print(\"It is a binary string.\")    \n",
    "    except Exception as e:\n",
    "        print(\"Error msg: {}\".format(e))"
   ]
  },
  {
   "cell_type": "code",
   "execution_count": 33,
   "id": "5540aefc",
   "metadata": {},
   "outputs": [
    {
     "name": "stdout",
     "output_type": "stream",
     "text": [
      "It is not a binary string.\n"
     ]
    }
   ],
   "source": [
    "binary_str('irfan')"
   ]
  },
  {
   "cell_type": "code",
   "execution_count": 34,
   "id": "f9d0bc31",
   "metadata": {},
   "outputs": [
    {
     "name": "stdout",
     "output_type": "stream",
     "text": [
      "It is a binary string.\n"
     ]
    }
   ],
   "source": [
    "binary_str('0100010')"
   ]
  },
  {
   "cell_type": "markdown",
   "id": "869a5e94",
   "metadata": {},
   "source": [
    "### 5.\tWrite a Python program to find uncommon words from two Strings?"
   ]
  },
  {
   "cell_type": "code",
   "execution_count": 39,
   "id": "3d19b51e",
   "metadata": {},
   "outputs": [],
   "source": [
    "def uncommon(a,b):\n",
    "    try:\n",
    "        a=a.split(' ')\n",
    "        b=b.split(' ')\n",
    "        lst=[]\n",
    "        for i in a:\n",
    "            if i not in b:\n",
    "                lst.append(i)\n",
    "                \n",
    "        return set(lst)\n",
    "    except Exception as e:\n",
    "        print(\"Error msg: {}\".format(e))"
   ]
  },
  {
   "cell_type": "code",
   "execution_count": 40,
   "id": "be8a2dad",
   "metadata": {},
   "outputs": [],
   "source": [
    "str1, str2 ='my name is irfan razi and i love to play cricket','India is my country and i love my country'"
   ]
  },
  {
   "cell_type": "code",
   "execution_count": 41,
   "id": "c2d19e87",
   "metadata": {},
   "outputs": [
    {
     "data": {
      "text/plain": [
       "{'cricket', 'irfan', 'name', 'play', 'razi', 'to'}"
      ]
     },
     "execution_count": 41,
     "metadata": {},
     "output_type": "execute_result"
    }
   ],
   "source": [
    "uncommon(str1,str2)"
   ]
  },
  {
   "cell_type": "markdown",
   "id": "399f3874",
   "metadata": {},
   "source": [
    "### 6.\tWrite a Python to find all duplicate characters in string?"
   ]
  },
  {
   "cell_type": "code",
   "execution_count": 48,
   "id": "303b8527",
   "metadata": {},
   "outputs": [],
   "source": [
    "def duplicate_char(a):\n",
    "    try:\n",
    "        lst=[]\n",
    "        for i in range(len(a)):\n",
    "            for j in range(i+1,len(a)):\n",
    "                if a[i] in a[j]:\n",
    "                    lst.append(a[i])\n",
    "        return set(lst)\n",
    "    except Exception as e:\n",
    "        print(\"Error msg: {}\".format(e))"
   ]
  },
  {
   "cell_type": "code",
   "execution_count": 49,
   "id": "3bae50e4",
   "metadata": {},
   "outputs": [],
   "source": [
    "str1 ='my name is irfan razi and i love to play cricket'"
   ]
  },
  {
   "cell_type": "code",
   "execution_count": 50,
   "id": "963072a9",
   "metadata": {},
   "outputs": [
    {
     "data": {
      "text/plain": [
       "{' ', 'a', 'c', 'e', 'i', 'l', 'm', 'n', 'o', 'r', 't', 'y'}"
      ]
     },
     "execution_count": 50,
     "metadata": {},
     "output_type": "execute_result"
    }
   ],
   "source": [
    "duplicate_char(str1)"
   ]
  },
  {
   "cell_type": "markdown",
   "id": "a3ed76a5",
   "metadata": {},
   "source": [
    "### 7.\tWrite a Python Program to check if a string contains any special character?"
   ]
  },
  {
   "cell_type": "code",
   "execution_count": 53,
   "id": "4b5cdeba",
   "metadata": {},
   "outputs": [],
   "source": [
    "def special_char(a):\n",
    "    sc='[@_!#$%^&*()<>?/\\|}{~:]'\n",
    "    try:\n",
    "        count=0\n",
    "        for i in a:\n",
    "            if i in sc:\n",
    "                count+=1\n",
    "        if count>0:\n",
    "            print(\"The string contains {} special characters.\".format(count))\n",
    "        else:\n",
    "            print('The string does not contain any special charatcer.')\n",
    "            \n",
    "    except Exception as e:\n",
    "        print(\"Error msg: {}\".format(e))"
   ]
  },
  {
   "cell_type": "code",
   "execution_count": 54,
   "id": "e707dd1f",
   "metadata": {},
   "outputs": [
    {
     "name": "stdout",
     "output_type": "stream",
     "text": [
      "The string does not contain any special charatcer.\n"
     ]
    }
   ],
   "source": [
    "special_char(\"it has been a long night\")"
   ]
  },
  {
   "cell_type": "code",
   "execution_count": 55,
   "id": "d071d4a7",
   "metadata": {},
   "outputs": [
    {
     "name": "stdout",
     "output_type": "stream",
     "text": [
      "The string contains 5 special characters.\n"
     ]
    }
   ],
   "source": [
    "special_char(\"whatsapp @ gmail.# (what to say, no idea!)\")"
   ]
  },
  {
   "cell_type": "code",
   "execution_count": null,
   "id": "a6e0069e",
   "metadata": {},
   "outputs": [],
   "source": []
  }
 ],
 "metadata": {
  "kernelspec": {
   "display_name": "Python 3 (ipykernel)",
   "language": "python",
   "name": "python3"
  },
  "language_info": {
   "codemirror_mode": {
    "name": "ipython",
    "version": 3
   },
   "file_extension": ".py",
   "mimetype": "text/x-python",
   "name": "python",
   "nbconvert_exporter": "python",
   "pygments_lexer": "ipython3",
   "version": "3.9.7"
  }
 },
 "nbformat": 4,
 "nbformat_minor": 5
}
