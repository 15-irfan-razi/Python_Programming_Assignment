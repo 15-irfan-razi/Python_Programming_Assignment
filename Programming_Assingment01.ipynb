{
 "cells": [
  {
   "cell_type": "markdown",
   "id": "d11eed2f",
   "metadata": {},
   "source": [
    "### 1.\tWrite a Python program to print \"Hello Python\"?"
   ]
  },
  {
   "cell_type": "code",
   "execution_count": 1,
   "id": "7cb74f59",
   "metadata": {},
   "outputs": [
    {
     "name": "stdout",
     "output_type": "stream",
     "text": [
      "Hello Python\n"
     ]
    }
   ],
   "source": [
    "print(\"Hello Python\")"
   ]
  },
  {
   "cell_type": "markdown",
   "id": "b9627e93",
   "metadata": {},
   "source": [
    "### 2.\tWrite a Python program to do arithmetical operations addition and division.?"
   ]
  },
  {
   "cell_type": "code",
   "execution_count": 5,
   "id": "65a36673",
   "metadata": {},
   "outputs": [],
   "source": [
    "def add_div(op,a,b):\n",
    "    try:\n",
    "        if op=='add':\n",
    "            num=a+b\n",
    "        elif op=='div':\n",
    "            num=a/b\n",
    "        else:\n",
    "            print(\"operator error\")\n",
    "    except Exception as e:\n",
    "        print(\"There has been an error: {}\".format(e))\n",
    "    return num"
   ]
  },
  {
   "cell_type": "code",
   "execution_count": 6,
   "id": "ba4c367a",
   "metadata": {},
   "outputs": [
    {
     "data": {
      "text/plain": [
       "9"
      ]
     },
     "execution_count": 6,
     "metadata": {},
     "output_type": "execute_result"
    }
   ],
   "source": [
    "add_div('add',4,5)"
   ]
  },
  {
   "cell_type": "code",
   "execution_count": 7,
   "id": "a229a5aa",
   "metadata": {},
   "outputs": [
    {
     "data": {
      "text/plain": [
       "0.8"
      ]
     },
     "execution_count": 7,
     "metadata": {},
     "output_type": "execute_result"
    }
   ],
   "source": [
    "add_div('div',4,5)"
   ]
  },
  {
   "cell_type": "markdown",
   "id": "6785ae19",
   "metadata": {},
   "source": [
    "### 3.\tWrite a Python program to find the area of a triangle?"
   ]
  },
  {
   "cell_type": "code",
   "execution_count": 8,
   "id": "47ed4520",
   "metadata": {},
   "outputs": [],
   "source": [
    "def area_of_tri(h,b):\n",
    "    try:\n",
    "        area=0.5*h*b\n",
    "    except Exception as e:\n",
    "        print(\"There has been an error: {}\".format(e))\n",
    "    return area"
   ]
  },
  {
   "cell_type": "code",
   "execution_count": 9,
   "id": "94ac590b",
   "metadata": {},
   "outputs": [
    {
     "data": {
      "text/plain": [
       "10.0"
      ]
     },
     "execution_count": 9,
     "metadata": {},
     "output_type": "execute_result"
    }
   ],
   "source": [
    "area_of_tri(4,5)"
   ]
  },
  {
   "cell_type": "markdown",
   "id": "77a150e6",
   "metadata": {},
   "source": [
    "### 4.\tWrite a Python program to swap two variables?"
   ]
  },
  {
   "cell_type": "code",
   "execution_count": 10,
   "id": "4e41b73b",
   "metadata": {},
   "outputs": [],
   "source": [
    "def swap_var(a,b):\n",
    "    temp=a\n",
    "    a=b\n",
    "    b=temp\n",
    "    return a,b"
   ]
  },
  {
   "cell_type": "code",
   "execution_count": 11,
   "id": "74bb75d6",
   "metadata": {},
   "outputs": [
    {
     "data": {
      "text/plain": [
       "(5, 4)"
      ]
     },
     "execution_count": 11,
     "metadata": {},
     "output_type": "execute_result"
    }
   ],
   "source": [
    "swap_var(4,5)"
   ]
  },
  {
   "cell_type": "markdown",
   "id": "d6ca6675",
   "metadata": {},
   "source": [
    "### 5.\tWrite a Python program to generate a random number?"
   ]
  },
  {
   "cell_type": "code",
   "execution_count": 20,
   "id": "3ebd8344",
   "metadata": {},
   "outputs": [
    {
     "name": "stdout",
     "output_type": "stream",
     "text": [
      "Give a lower limit for which you want to create a randmom number: 20\n",
      "Give a upper limit for which you want to create a randmom number: 500\n",
      "51\n"
     ]
    }
   ],
   "source": [
    "import random\n",
    "try:\n",
    "    a=int(input(\"Give a lower limit for which you want to create a randmom number: \"))\n",
    "    b=int(input(\"Give a upper limit for which you want to create a randmom number: \"))\n",
    "    print(random.randrange(a,b))\n",
    "except Exception as e:\n",
    "    print(\"There has been an error: {}\".format(e))"
   ]
  },
  {
   "cell_type": "code",
   "execution_count": null,
   "id": "22df25c6",
   "metadata": {},
   "outputs": [],
   "source": []
  }
 ],
 "metadata": {
  "kernelspec": {
   "display_name": "Python 3 (ipykernel)",
   "language": "python",
   "name": "python3"
  },
  "language_info": {
   "codemirror_mode": {
    "name": "ipython",
    "version": 3
   },
   "file_extension": ".py",
   "mimetype": "text/x-python",
   "name": "python",
   "nbconvert_exporter": "python",
   "pygments_lexer": "ipython3",
   "version": "3.9.7"
  }
 },
 "nbformat": 4,
 "nbformat_minor": 5
}
