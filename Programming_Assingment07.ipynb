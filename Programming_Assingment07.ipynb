{
 "cells": [
  {
   "cell_type": "markdown",
   "id": "e304bfcb",
   "metadata": {},
   "source": [
    "### 1.\tWrite a Python Program to find sum of array?"
   ]
  },
  {
   "cell_type": "code",
   "execution_count": 1,
   "id": "27540918",
   "metadata": {},
   "outputs": [],
   "source": [
    "def sum_array(arr):\n",
    "    summ=0\n",
    "    try:\n",
    "        for i in arr:\n",
    "            summ+=i\n",
    "        return summ\n",
    "    except Exception as e:\n",
    "        print('Error msg: {}'.format(e))"
   ]
  },
  {
   "cell_type": "code",
   "execution_count": 2,
   "id": "b5391052",
   "metadata": {},
   "outputs": [
    {
     "data": {
      "text/plain": [
       "18"
      ]
     },
     "execution_count": 2,
     "metadata": {},
     "output_type": "execute_result"
    }
   ],
   "source": [
    "sum_array([3,4,5,6])"
   ]
  },
  {
   "cell_type": "markdown",
   "id": "6600bcc0",
   "metadata": {},
   "source": [
    "### 2.\tWrite a Python Program to find largest element in an array?"
   ]
  },
  {
   "cell_type": "code",
   "execution_count": 3,
   "id": "95daf5f5",
   "metadata": {},
   "outputs": [],
   "source": [
    "def largest_array(arr):\n",
    "    try:\n",
    "        large=arr[0]\n",
    "        for i in arr:\n",
    "            if i>large:\n",
    "                large=i\n",
    "        return large\n",
    "    except Exception as e:\n",
    "        print('Error msg: {}'.format(e))"
   ]
  },
  {
   "cell_type": "code",
   "execution_count": 4,
   "id": "695e81a8",
   "metadata": {},
   "outputs": [],
   "source": [
    "arr=[12,45,13,1,2,10,54,32,25]"
   ]
  },
  {
   "cell_type": "code",
   "execution_count": 5,
   "id": "617d2bb6",
   "metadata": {},
   "outputs": [
    {
     "data": {
      "text/plain": [
       "54"
      ]
     },
     "execution_count": 5,
     "metadata": {},
     "output_type": "execute_result"
    }
   ],
   "source": [
    "largest_array(arr)"
   ]
  },
  {
   "cell_type": "markdown",
   "id": "d768f6d3",
   "metadata": {},
   "source": [
    "### 3.\tWrite a Python Program for array rotation?"
   ]
  },
  {
   "cell_type": "code",
   "execution_count": 12,
   "id": "bcd24345",
   "metadata": {},
   "outputs": [],
   "source": [
    "def rotate_array(arr, position):\n",
    "    try:\n",
    "        arr1=arr[:position]\n",
    "        for i in range(position):\n",
    "            del arr[0]\n",
    "        arr=arr+arr1\n",
    "        \n",
    "        return arr\n",
    "    except Exception as e:\n",
    "        print('Error msg: {}'.format(e))"
   ]
  },
  {
   "cell_type": "code",
   "execution_count": 16,
   "id": "d38fb088",
   "metadata": {},
   "outputs": [],
   "source": [
    "arr=[12,45,13,1,2,10,54,32,25]"
   ]
  },
  {
   "cell_type": "code",
   "execution_count": 17,
   "id": "5d9d7534",
   "metadata": {},
   "outputs": [
    {
     "data": {
      "text/plain": [
       "[1, 2, 10, 54, 32, 25, 12, 45, 13]"
      ]
     },
     "execution_count": 17,
     "metadata": {},
     "output_type": "execute_result"
    }
   ],
   "source": [
    "rotate_array(arr,3)"
   ]
  },
  {
   "cell_type": "markdown",
   "id": "73e96555",
   "metadata": {},
   "source": [
    "### 4.\tWrite a Python Program to Split the array and add the first part to the end?"
   ]
  },
  {
   "cell_type": "code",
   "execution_count": 21,
   "id": "e9d23785",
   "metadata": {},
   "outputs": [],
   "source": [
    "def split_array(arr,position):\n",
    "    try:\n",
    "        arr_length=len(arr)\n",
    "        for i in range(position):\n",
    "            temp=arr[0]\n",
    "            for j in range(arr_length-1):\n",
    "                arr[j]=arr[j+1]\n",
    "            arr[arr_length-1]=temp\n",
    "            \n",
    "        for i in range(arr_length):\n",
    "            print(arr[i], end=' ')\n",
    "            \n",
    "    except Exception as e:\n",
    "        print('Error msg: {}'.format(e))"
   ]
  },
  {
   "cell_type": "code",
   "execution_count": 22,
   "id": "4b94b75c",
   "metadata": {},
   "outputs": [],
   "source": [
    "arr=[12,45,13,1,2,10,54,32,25]"
   ]
  },
  {
   "cell_type": "code",
   "execution_count": 23,
   "id": "2248f6ee",
   "metadata": {},
   "outputs": [
    {
     "name": "stdout",
     "output_type": "stream",
     "text": [
      "13 1 2 10 54 32 25 12 45 "
     ]
    }
   ],
   "source": [
    "split_array(arr,2)"
   ]
  },
  {
   "cell_type": "markdown",
   "id": "98197b4d",
   "metadata": {},
   "source": [
    "### 5.\tWrite a Python Program to check if given array is Monotonic?"
   ]
  },
  {
   "cell_type": "code",
   "execution_count": 29,
   "id": "3c2ce493",
   "metadata": {},
   "outputs": [],
   "source": [
    "def check_monotonicity(arr):\n",
    "    try:\n",
    "        temp=arr[0]\n",
    "        if arr[1]>temp:\n",
    "            for i in range(1,len(arr)):\n",
    "                if arr[i]>temp:\n",
    "                    temp=arr[i]\n",
    "                else:\n",
    "                    return False\n",
    "            if temp==arr[-1]:\n",
    "                return True\n",
    "            else:\n",
    "                return False\n",
    "            \n",
    "        elif arr[1]<temp:\n",
    "            for i in range(1, len(arr)):\n",
    "                if arr[i]<temp:\n",
    "                    temp=arr[i]\n",
    "                else:\n",
    "                    return False\n",
    "            if temp==arr[-1]:\n",
    "                return True\n",
    "            else:\n",
    "                return False\n",
    "        else:\n",
    "            return False\n",
    "        \n",
    "    except Exception as e:\n",
    "        print('Error msg: {}'.format(e))"
   ]
  },
  {
   "cell_type": "code",
   "execution_count": 30,
   "id": "fb8dbbeb",
   "metadata": {},
   "outputs": [],
   "source": [
    "arr1=[1,2,3,4]\n",
    "arr2=[4,3,2,1]\n",
    "arr3=[2,3,1,4]"
   ]
  },
  {
   "cell_type": "code",
   "execution_count": 31,
   "id": "eaf0f59b",
   "metadata": {},
   "outputs": [
    {
     "data": {
      "text/plain": [
       "True"
      ]
     },
     "execution_count": 31,
     "metadata": {},
     "output_type": "execute_result"
    }
   ],
   "source": [
    "check_monotonicity(arr1)"
   ]
  },
  {
   "cell_type": "code",
   "execution_count": 32,
   "id": "3e132072",
   "metadata": {},
   "outputs": [
    {
     "data": {
      "text/plain": [
       "True"
      ]
     },
     "execution_count": 32,
     "metadata": {},
     "output_type": "execute_result"
    }
   ],
   "source": [
    "check_monotonicity(arr2)"
   ]
  },
  {
   "cell_type": "code",
   "execution_count": 33,
   "id": "6d35978f",
   "metadata": {},
   "outputs": [
    {
     "data": {
      "text/plain": [
       "False"
      ]
     },
     "execution_count": 33,
     "metadata": {},
     "output_type": "execute_result"
    }
   ],
   "source": [
    "check_monotonicity(arr3)"
   ]
  },
  {
   "cell_type": "code",
   "execution_count": null,
   "id": "eccb45c4",
   "metadata": {},
   "outputs": [],
   "source": []
  }
 ],
 "metadata": {
  "kernelspec": {
   "display_name": "Python 3 (ipykernel)",
   "language": "python",
   "name": "python3"
  },
  "language_info": {
   "codemirror_mode": {
    "name": "ipython",
    "version": 3
   },
   "file_extension": ".py",
   "mimetype": "text/x-python",
   "name": "python",
   "nbconvert_exporter": "python",
   "pygments_lexer": "ipython3",
   "version": "3.9.7"
  }
 },
 "nbformat": 4,
 "nbformat_minor": 5
}
