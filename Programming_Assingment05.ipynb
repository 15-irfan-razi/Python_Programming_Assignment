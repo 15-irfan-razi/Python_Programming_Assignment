{
 "cells": [
  {
   "cell_type": "markdown",
   "id": "9d2d946e",
   "metadata": {},
   "source": [
    "### 1.\tWrite a Python Program to Find LCM?"
   ]
  },
  {
   "cell_type": "code",
   "execution_count": 3,
   "id": "de399d90",
   "metadata": {},
   "outputs": [],
   "source": [
    "def lcm():\n",
    "    try:\n",
    "        a=int(input(\"Enter a number whose LCM you want: \"))\n",
    "        b=int(input(\"Enter another number whose LCM you want: \"))\n",
    "        \n",
    "        if a>b:\n",
    "            num=a\n",
    "        else:\n",
    "            num=b\n",
    "            \n",
    "        while(1):\n",
    "            if (num%a==0 and num%b==0):\n",
    "                lcm=num\n",
    "                break\n",
    "            num+=1\n",
    "            \n",
    "        return lcm\n",
    "    except Exception as e:\n",
    "        print('Error msg: {}'.format(e))"
   ]
  },
  {
   "cell_type": "code",
   "execution_count": 4,
   "id": "a53e706b",
   "metadata": {},
   "outputs": [
    {
     "name": "stdout",
     "output_type": "stream",
     "text": [
      "Enter a number whose LCM you want: 25\n",
      "Enter another number whose LCM you want: 28\n"
     ]
    },
    {
     "data": {
      "text/plain": [
       "700"
      ]
     },
     "execution_count": 4,
     "metadata": {},
     "output_type": "execute_result"
    }
   ],
   "source": [
    "lcm()"
   ]
  },
  {
   "cell_type": "markdown",
   "id": "8fe13e34",
   "metadata": {},
   "source": [
    "### 2.\tWrite a Python Program to Find HCF?"
   ]
  },
  {
   "cell_type": "code",
   "execution_count": 5,
   "id": "06c802d0",
   "metadata": {},
   "outputs": [],
   "source": [
    "def hcf():\n",
    "    try:\n",
    "        a=int(input(\"Enter a number whose LCM you want: \"))\n",
    "        b=int(input(\"Enter another number whose LCM you want: \"))\n",
    "        \n",
    "        if a<b:\n",
    "            num=a\n",
    "        else:\n",
    "            num=b\n",
    "            \n",
    "        while(1):\n",
    "            if (a%num==0 and b%num==0):\n",
    "                hcf=num\n",
    "                break\n",
    "            num-=1\n",
    "            \n",
    "        return hcf\n",
    "    except Exception as e:\n",
    "        print('Error msg: {}'.format(e))"
   ]
  },
  {
   "cell_type": "code",
   "execution_count": 6,
   "id": "b1bb2fba",
   "metadata": {},
   "outputs": [
    {
     "name": "stdout",
     "output_type": "stream",
     "text": [
      "Enter a number whose LCM you want: 20\n",
      "Enter another number whose LCM you want: 15\n"
     ]
    },
    {
     "data": {
      "text/plain": [
       "5"
      ]
     },
     "execution_count": 6,
     "metadata": {},
     "output_type": "execute_result"
    }
   ],
   "source": [
    "hcf()"
   ]
  },
  {
   "cell_type": "markdown",
   "id": "9c177702",
   "metadata": {},
   "source": [
    "### 3.\tWrite a Python Program to Convert Decimal to Binary, Octal and Hexadecimal?"
   ]
  },
  {
   "cell_type": "code",
   "execution_count": 13,
   "id": "53d7176c",
   "metadata": {},
   "outputs": [],
   "source": [
    "def dec_binary_octal_hex():\n",
    "    try:\n",
    "        a=int(input('Enter an integer value: '))\n",
    "\n",
    "        print(\"Binary Value:\",bin(a))\n",
    "        print(\"Octal Value:\",oct(a))\n",
    "        print(\"Hexadecimal Value:\",hex(a))\n",
    "    except Exception as e:\n",
    "        print('Error msg: {}'.format(e))"
   ]
  },
  {
   "cell_type": "code",
   "execution_count": 14,
   "id": "3853397e",
   "metadata": {},
   "outputs": [
    {
     "name": "stdout",
     "output_type": "stream",
     "text": [
      "Enter an integer value: 120\n",
      "Binary Value: 0b1111000\n",
      "Octal Value: 0o170\n",
      "Hexadecimal Value: 0x78\n"
     ]
    }
   ],
   "source": [
    "dec_binary_octal_hex()"
   ]
  },
  {
   "cell_type": "markdown",
   "id": "93c9953a",
   "metadata": {},
   "source": [
    "### 4.\tWrite a Python Program To Find ASCII value of a character?"
   ]
  },
  {
   "cell_type": "code",
   "execution_count": 15,
   "id": "af2444bd",
   "metadata": {},
   "outputs": [],
   "source": [
    "def char_to_ascii(a):\n",
    "    try:\n",
    "        print('The ASCII value for {} is {}'.format(a,ord(a)))\n",
    "    except Exception as e:\n",
    "        print('Error msg: {}'.format(e))"
   ]
  },
  {
   "cell_type": "code",
   "execution_count": 17,
   "id": "dd88646e",
   "metadata": {},
   "outputs": [
    {
     "name": "stdout",
     "output_type": "stream",
     "text": [
      "The ASCII value for n is 110\n",
      "The ASCII value for 5 is 53\n"
     ]
    }
   ],
   "source": [
    "char_to_ascii('n')\n",
    "char_to_ascii('5')"
   ]
  },
  {
   "cell_type": "markdown",
   "id": "3028db2f",
   "metadata": {},
   "source": [
    "### 5.\tWrite a Python Program to Make a Simple Calculator with 4 basic mathematical operations?"
   ]
  },
  {
   "cell_type": "code",
   "execution_count": 18,
   "id": "f1213f7e",
   "metadata": {},
   "outputs": [],
   "source": [
    "def calculator(operator, a,b):\n",
    "    try:\n",
    "        if operator=='add':\n",
    "            return a+b\n",
    "        elif operator=='subtract':\n",
    "            return a-b\n",
    "        elif operator=='multiply':\n",
    "            return a*b\n",
    "        elif operator=='division':\n",
    "            return a/b\n",
    "        else:\n",
    "            print('Wrong input.')\n",
    "    except Exception as e:\n",
    "        print('Error msg: {}'.format(e))"
   ]
  },
  {
   "cell_type": "code",
   "execution_count": 21,
   "id": "f6273be0",
   "metadata": {},
   "outputs": [
    {
     "data": {
      "text/plain": [
       "9"
      ]
     },
     "execution_count": 21,
     "metadata": {},
     "output_type": "execute_result"
    }
   ],
   "source": [
    "calculator('add', 4,5)"
   ]
  },
  {
   "cell_type": "code",
   "execution_count": 22,
   "id": "7512c213",
   "metadata": {},
   "outputs": [
    {
     "data": {
      "text/plain": [
       "-1"
      ]
     },
     "execution_count": 22,
     "metadata": {},
     "output_type": "execute_result"
    }
   ],
   "source": [
    "calculator('subtract', 4,5)"
   ]
  },
  {
   "cell_type": "code",
   "execution_count": 23,
   "id": "37e8072f",
   "metadata": {},
   "outputs": [
    {
     "data": {
      "text/plain": [
       "20"
      ]
     },
     "execution_count": 23,
     "metadata": {},
     "output_type": "execute_result"
    }
   ],
   "source": [
    "calculator('multiply', 4,5)"
   ]
  },
  {
   "cell_type": "code",
   "execution_count": 24,
   "id": "5ef1f5b3",
   "metadata": {},
   "outputs": [
    {
     "data": {
      "text/plain": [
       "0.8"
      ]
     },
     "execution_count": 24,
     "metadata": {},
     "output_type": "execute_result"
    }
   ],
   "source": [
    "calculator('division', 4,5)"
   ]
  },
  {
   "cell_type": "code",
   "execution_count": null,
   "id": "b32090bb",
   "metadata": {},
   "outputs": [],
   "source": []
  }
 ],
 "metadata": {
  "kernelspec": {
   "display_name": "Python 3 (ipykernel)",
   "language": "python",
   "name": "python3"
  },
  "language_info": {
   "codemirror_mode": {
    "name": "ipython",
    "version": 3
   },
   "file_extension": ".py",
   "mimetype": "text/x-python",
   "name": "python",
   "nbconvert_exporter": "python",
   "pygments_lexer": "ipython3",
   "version": "3.9.7"
  }
 },
 "nbformat": 4,
 "nbformat_minor": 5
}
