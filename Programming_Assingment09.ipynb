{
 "cells": [
  {
   "cell_type": "markdown",
   "id": "b1a05fba",
   "metadata": {},
   "source": [
    "### 1.\tWrite a Python program to check if the given number is a Disarium Number?"
   ]
  },
  {
   "cell_type": "code",
   "execution_count": 43,
   "id": "22a21fcc",
   "metadata": {},
   "outputs": [],
   "source": [
    "def disarium(a):\n",
    "    temp=a\n",
    "    count=0\n",
    "    digit=[]\n",
    "    try:\n",
    "        while a>0:\n",
    "            digit.append(a%10)\n",
    "            a//=10\n",
    "            count+=1\n",
    "        summ=0\n",
    "        digit.reverse()\n",
    "        for i in range(count):\n",
    "            summ+=digit[i]**(i+1)\n",
    "            \n",
    "        if summ==temp:\n",
    "            print('This is a disarium number.')\n",
    "        else:\n",
    "            print('This is not a disarium number.')\n",
    "    except Exception as e:\n",
    "        print('Error msg: {}'.format(e))"
   ]
  },
  {
   "cell_type": "code",
   "execution_count": 44,
   "id": "2b3e8e5f",
   "metadata": {},
   "outputs": [
    {
     "name": "stdout",
     "output_type": "stream",
     "text": [
      "This is not a disarium number.\n"
     ]
    }
   ],
   "source": [
    "disarium(1234)"
   ]
  },
  {
   "cell_type": "code",
   "execution_count": 45,
   "id": "7060eac3",
   "metadata": {},
   "outputs": [
    {
     "name": "stdout",
     "output_type": "stream",
     "text": [
      "This is a disarium number.\n"
     ]
    }
   ],
   "source": [
    "disarium(175)"
   ]
  },
  {
   "cell_type": "markdown",
   "id": "94de133c",
   "metadata": {},
   "source": [
    "### 2.\tWrite a Python program to print all disarium numbers between 1 to 100?"
   ]
  },
  {
   "cell_type": "code",
   "execution_count": 46,
   "id": "ae8d02d0",
   "metadata": {},
   "outputs": [],
   "source": [
    "def disarium():\n",
    "    try:\n",
    "        lst=[]\n",
    "        for i in range(1,101):\n",
    "            temp=i\n",
    "            count=0\n",
    "            digit=[]\n",
    "            while i>0:\n",
    "                digit.append(i%10)\n",
    "                i//=10\n",
    "                count+=1\n",
    "            summ=0\n",
    "            digit.reverse()\n",
    "            for j in range(count):\n",
    "                summ+=digit[j]**(j+1)\n",
    "\n",
    "            if summ==temp:\n",
    "                lst.append(temp)\n",
    "        return lst\n",
    "            \n",
    "    except Exception as e:\n",
    "        print('Error msg: {}'.format(e))"
   ]
  },
  {
   "cell_type": "code",
   "execution_count": 47,
   "id": "89d01fad",
   "metadata": {},
   "outputs": [
    {
     "data": {
      "text/plain": [
       "[1, 2, 3, 4, 5, 6, 7, 8, 9, 89]"
      ]
     },
     "execution_count": 47,
     "metadata": {},
     "output_type": "execute_result"
    }
   ],
   "source": [
    "disarium()"
   ]
  },
  {
   "cell_type": "markdown",
   "id": "7ed19361",
   "metadata": {},
   "source": [
    "### 3.\tWrite a Python program to check if the given number is Happy Number?"
   ]
  },
  {
   "cell_type": "code",
   "execution_count": 64,
   "id": "fce83b27",
   "metadata": {},
   "outputs": [],
   "source": [
    "def happy(a):\n",
    "    try:\n",
    "        count=100\n",
    "        while (a)!=1 and count>0:\n",
    "            digit=[]\n",
    "            while a>0:\n",
    "                digit.append(a%10)\n",
    "                a//=10\n",
    "            summ=0\n",
    "            for i in range(len(digit)):\n",
    "                summ+=digit[i]**2\n",
    "            a=summ\n",
    "            count-=1\n",
    "        if a==1:\n",
    "            print('This is a happy number.')\n",
    "        else:\n",
    "            print('This is not a happy number.')\n",
    "    except Exception as e:\n",
    "        print('Error msg: {}'.format(e))"
   ]
  },
  {
   "cell_type": "code",
   "execution_count": 65,
   "id": "c1845b6e",
   "metadata": {},
   "outputs": [
    {
     "name": "stdout",
     "output_type": "stream",
     "text": [
      "This is a happy number.\n"
     ]
    }
   ],
   "source": [
    "happy(97)"
   ]
  },
  {
   "cell_type": "markdown",
   "id": "668bdf70",
   "metadata": {},
   "source": [
    "### 4.\tWrite a Python program to print all happy numbers between 1 and 100?"
   ]
  },
  {
   "cell_type": "code",
   "execution_count": 61,
   "id": "200a1de1",
   "metadata": {},
   "outputs": [],
   "source": [
    "def happy():\n",
    "    try:\n",
    "        for j in range(1,101):\n",
    "            a=j\n",
    "            count=100\n",
    "            while (a)!=1 and count>0:\n",
    "                digit=[]\n",
    "                while a>0:\n",
    "                    digit.append(a%10)\n",
    "                    a//=10\n",
    "                summ=0\n",
    "                for i in range(len(digit)):\n",
    "                    summ+=digit[i]**2\n",
    "                a=summ\n",
    "                count-=1\n",
    "            if a==1:\n",
    "                print(j)\n",
    "    except Exception as e:\n",
    "        print('Error msg: {}'.format(e))"
   ]
  },
  {
   "cell_type": "code",
   "execution_count": 62,
   "id": "0c4bb41f",
   "metadata": {},
   "outputs": [
    {
     "name": "stdout",
     "output_type": "stream",
     "text": [
      "1\n",
      "7\n",
      "10\n",
      "13\n",
      "19\n",
      "23\n",
      "28\n",
      "31\n",
      "32\n",
      "44\n",
      "49\n",
      "68\n",
      "70\n",
      "79\n",
      "82\n",
      "86\n",
      "91\n",
      "94\n",
      "97\n",
      "100\n"
     ]
    }
   ],
   "source": [
    "happy()"
   ]
  },
  {
   "cell_type": "markdown",
   "id": "16c09587",
   "metadata": {},
   "source": [
    "### 5.\tWrite a Python program to determine whether the given number is a Harshad Number?"
   ]
  },
  {
   "cell_type": "code",
   "execution_count": 7,
   "id": "946f8277",
   "metadata": {},
   "outputs": [],
   "source": [
    "def harshad(a):\n",
    "    try:\n",
    "        temp=a\n",
    "        digit=[]\n",
    "        while a>0:\n",
    "            digit.append(a%10)\n",
    "            a//=10\n",
    "            \n",
    "        summ=sum(digit)\n",
    "        if temp%summ==0:\n",
    "            print(\"It is a Harshad Number.\")\n",
    "        else:\n",
    "            print(\"It is not a Harshad Number.\")\n",
    "            \n",
    "    except Exception as e:\n",
    "        print('Error msg: {}'.format(e))"
   ]
  },
  {
   "cell_type": "code",
   "execution_count": 9,
   "id": "303a1713",
   "metadata": {},
   "outputs": [
    {
     "name": "stdout",
     "output_type": "stream",
     "text": [
      "It is a Harshad Number.\n"
     ]
    }
   ],
   "source": [
    "harshad(21)"
   ]
  },
  {
   "cell_type": "code",
   "execution_count": 10,
   "id": "bc9dca90",
   "metadata": {},
   "outputs": [
    {
     "name": "stdout",
     "output_type": "stream",
     "text": [
      "It is not a Harshad Number.\n"
     ]
    }
   ],
   "source": [
    "harshad(31)"
   ]
  },
  {
   "cell_type": "markdown",
   "id": "12dff42c",
   "metadata": {},
   "source": [
    "### 6.\tWrite a Python program to print all pronic numbers between 1 and 100?"
   ]
  },
  {
   "cell_type": "code",
   "execution_count": 14,
   "id": "5193535b",
   "metadata": {},
   "outputs": [],
   "source": [
    "def pronic():\n",
    "    \n",
    "    try:\n",
    "        lst=[]\n",
    "        for i in range(1,10):\n",
    "            lst.append(i*(i+1))\n",
    "        return lst\n",
    "    except Exception as e:\n",
    "        print('Error msg: {}'.format(e))"
   ]
  },
  {
   "cell_type": "code",
   "execution_count": 15,
   "id": "6cc6dc68",
   "metadata": {},
   "outputs": [
    {
     "data": {
      "text/plain": [
       "[2, 6, 12, 20, 30, 42, 56, 72, 90]"
      ]
     },
     "execution_count": 15,
     "metadata": {},
     "output_type": "execute_result"
    }
   ],
   "source": [
    "pronic()"
   ]
  }
 ],
 "metadata": {
  "kernelspec": {
   "display_name": "Python 3 (ipykernel)",
   "language": "python",
   "name": "python3"
  },
  "language_info": {
   "codemirror_mode": {
    "name": "ipython",
    "version": 3
   },
   "file_extension": ".py",
   "mimetype": "text/x-python",
   "name": "python",
   "nbconvert_exporter": "python",
   "pygments_lexer": "ipython3",
   "version": "3.9.7"
  }
 },
 "nbformat": 4,
 "nbformat_minor": 5
}
