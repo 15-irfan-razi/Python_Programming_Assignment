{
 "cells": [
  {
   "cell_type": "markdown",
   "id": "52f185f7",
   "metadata": {},
   "source": [
    "### 1.\tWrite a Python Program to Add Two Matrices?"
   ]
  },
  {
   "cell_type": "code",
   "execution_count": 21,
   "id": "7176439c",
   "metadata": {},
   "outputs": [],
   "source": [
    "import numpy as np\n",
    "def mat_add(a,b):\n",
    "    try:\n",
    "        summ=np.zeros(a.shape)\n",
    "        for i in range(len(a)):\n",
    "            for j in range(len(a[0])):\n",
    "                summ[i][j]=a[i][j] + b[i][j]\n",
    "        return summ\n",
    "    except Exception as e:\n",
    "        print('Both matrices should be compatible. Error msg: {}'.format(e))"
   ]
  },
  {
   "cell_type": "code",
   "execution_count": 24,
   "id": "86db5687",
   "metadata": {},
   "outputs": [],
   "source": [
    "arr1=np.asarray([[1,2,3],[4,5,6],[7,8,9]])\n",
    "arr2=np.asarray([[9,1,6],[8,3,6],[8,5,0]])"
   ]
  },
  {
   "cell_type": "code",
   "execution_count": 25,
   "id": "c4fe1659",
   "metadata": {},
   "outputs": [
    {
     "data": {
      "text/plain": [
       "array([[10.,  3.,  9.],\n",
       "       [12.,  8., 12.],\n",
       "       [15., 13.,  9.]])"
      ]
     },
     "execution_count": 25,
     "metadata": {},
     "output_type": "execute_result"
    }
   ],
   "source": [
    "mat_add(arr1,arr2)"
   ]
  },
  {
   "cell_type": "markdown",
   "id": "d81fead3",
   "metadata": {},
   "source": [
    "### 2.\tWrite a Python Program to Multiply Two Matrices?"
   ]
  },
  {
   "cell_type": "code",
   "execution_count": 26,
   "id": "9f6720bd",
   "metadata": {},
   "outputs": [],
   "source": [
    "import numpy as np\n",
    "def mat_mul(a,b):\n",
    "    try:\n",
    "        mul=np.zeros(a.shape)\n",
    "        for i in range(len(a)):\n",
    "            for j in range(len(b[0])):\n",
    "                for k in range(len(b)):\n",
    "                    mul[i][j]+=a[i][k] * b[k][j]\n",
    "        return mul\n",
    "    except Exception as e:\n",
    "        print('Both matrices should be compatible. Error msg: {}'.format(e))"
   ]
  },
  {
   "cell_type": "code",
   "execution_count": 27,
   "id": "2ba3efaa",
   "metadata": {},
   "outputs": [],
   "source": [
    "arr1=np.asarray([[1,2,3],[4,5,6],[7,8,9]])\n",
    "arr2=np.asarray([[9,1,6],[8,3,6],[8,5,0]])"
   ]
  },
  {
   "cell_type": "code",
   "execution_count": 29,
   "id": "744229be",
   "metadata": {},
   "outputs": [
    {
     "data": {
      "text/plain": [
       "array([[ 49.,  22.,  18.],\n",
       "       [124.,  49.,  54.],\n",
       "       [199.,  76.,  90.]])"
      ]
     },
     "execution_count": 29,
     "metadata": {},
     "output_type": "execute_result"
    }
   ],
   "source": [
    "mat_mul(arr1,arr2)"
   ]
  },
  {
   "cell_type": "markdown",
   "id": "7b2acd19",
   "metadata": {},
   "source": [
    "### 3.\tWrite a Python Program to Transpose a Matrix?"
   ]
  },
  {
   "cell_type": "code",
   "execution_count": 30,
   "id": "36addf18",
   "metadata": {},
   "outputs": [],
   "source": [
    "import numpy as np\n",
    "def mat_transpose(a):\n",
    "    try:\n",
    "        t_mat=np.zeros(a.shape)\n",
    "        for i in range(len(a)):\n",
    "            for j in range(len(a[0])):\n",
    "                t_mat[i][j]=a[j][i]\n",
    "        return t_mat\n",
    "    except Exception as e:\n",
    "        print('Error msg: {}'.format(e))"
   ]
  },
  {
   "cell_type": "code",
   "execution_count": 31,
   "id": "fd5cfd7c",
   "metadata": {},
   "outputs": [],
   "source": [
    "arr1=np.asarray([[1,2,3],[4,5,6],[7,8,9]])"
   ]
  },
  {
   "cell_type": "code",
   "execution_count": 32,
   "id": "92c13ebe",
   "metadata": {},
   "outputs": [
    {
     "data": {
      "text/plain": [
       "array([[1., 4., 7.],\n",
       "       [2., 5., 8.],\n",
       "       [3., 6., 9.]])"
      ]
     },
     "execution_count": 32,
     "metadata": {},
     "output_type": "execute_result"
    }
   ],
   "source": [
    "mat_transpose(arr1)"
   ]
  },
  {
   "cell_type": "markdown",
   "id": "a50f154c",
   "metadata": {},
   "source": [
    "### 4.\tWrite a Python Program to Sort Words in Alphabetic Order?"
   ]
  },
  {
   "cell_type": "code",
   "execution_count": 39,
   "id": "663ffd10",
   "metadata": {},
   "outputs": [],
   "source": [
    "def sort_words(a):\n",
    "    try:\n",
    "        b=a.lower().split()\n",
    "        b.sort()\n",
    "        return b\n",
    "    except Exception as e:\n",
    "        print('Error msg: {}'.format(e))"
   ]
  },
  {
   "cell_type": "code",
   "execution_count": 40,
   "id": "9cf45de7",
   "metadata": {},
   "outputs": [],
   "source": [
    "a=\"It has been a wonderful day\""
   ]
  },
  {
   "cell_type": "code",
   "execution_count": 41,
   "id": "c89002b2",
   "metadata": {},
   "outputs": [
    {
     "data": {
      "text/plain": [
       "['a', 'been', 'day', 'has', 'it', 'wonderful']"
      ]
     },
     "execution_count": 41,
     "metadata": {},
     "output_type": "execute_result"
    }
   ],
   "source": [
    " sort_words(a)"
   ]
  },
  {
   "cell_type": "markdown",
   "id": "6aa27f5f",
   "metadata": {},
   "source": [
    "### 5.\tWrite a Python Program to Remove Punctuation From a String?"
   ]
  },
  {
   "cell_type": "code",
   "execution_count": 42,
   "id": "6617a39e",
   "metadata": {},
   "outputs": [],
   "source": [
    "def remove_punc(a):\n",
    "    try:\n",
    "        remover='''!()-[]{};:'\"\\,<>./?@#$%^&*_~'''\n",
    "        final=''\n",
    "        for i in a:\n",
    "            if i not in remover:\n",
    "                final+=i\n",
    "        return final\n",
    "    except Exception as e:\n",
    "        print('Error msg: {}'.format(e))"
   ]
  },
  {
   "cell_type": "code",
   "execution_count": 43,
   "id": "24be4eee",
   "metadata": {},
   "outputs": [],
   "source": [
    "sentence='Happy Birthday!! Have a good day, have fun :-)'"
   ]
  },
  {
   "cell_type": "code",
   "execution_count": 44,
   "id": "6cada871",
   "metadata": {},
   "outputs": [
    {
     "data": {
      "text/plain": [
       "'Happy Birthday Have a good day have fun '"
      ]
     },
     "execution_count": 44,
     "metadata": {},
     "output_type": "execute_result"
    }
   ],
   "source": [
    "remove_punc(sentence)"
   ]
  },
  {
   "cell_type": "code",
   "execution_count": null,
   "id": "1d460fe1",
   "metadata": {},
   "outputs": [],
   "source": []
  }
 ],
 "metadata": {
  "kernelspec": {
   "display_name": "Python 3 (ipykernel)",
   "language": "python",
   "name": "python3"
  },
  "language_info": {
   "codemirror_mode": {
    "name": "ipython",
    "version": 3
   },
   "file_extension": ".py",
   "mimetype": "text/x-python",
   "name": "python",
   "nbconvert_exporter": "python",
   "pygments_lexer": "ipython3",
   "version": "3.9.7"
  }
 },
 "nbformat": 4,
 "nbformat_minor": 5
}
