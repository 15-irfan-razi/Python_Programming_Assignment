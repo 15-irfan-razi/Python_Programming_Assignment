{
 "cells": [
  {
   "cell_type": "markdown",
   "id": "47cfd2a0",
   "metadata": {},
   "source": [
    "### 1.\tWrite a Python Program to Display Fibonacci Sequence Using Recursion?"
   ]
  },
  {
   "cell_type": "code",
   "execution_count": 22,
   "id": "698b4ae3",
   "metadata": {},
   "outputs": [],
   "source": [
    "series=[0,1]\n",
    "def fib_rec(a):\n",
    "    try:\n",
    "        temp=series[-1]+series[-2]\n",
    "        series.append(temp)\n",
    "        a-=1\n",
    "        if a>2:\n",
    "            fib_rec(a)\n",
    "        return series\n",
    "    except Exception as e:\n",
    "        print('Error msg: {}'.format(e))"
   ]
  },
  {
   "cell_type": "code",
   "execution_count": 23,
   "id": "24710c64",
   "metadata": {},
   "outputs": [
    {
     "data": {
      "text/plain": [
       "[0, 1, 1, 2, 3, 5, 8, 13, 21, 34]"
      ]
     },
     "execution_count": 23,
     "metadata": {},
     "output_type": "execute_result"
    }
   ],
   "source": [
    "fib_rec(10)"
   ]
  },
  {
   "cell_type": "markdown",
   "id": "ccc51d02",
   "metadata": {},
   "source": [
    "### 2.\tWrite a Python Program to Find Factorial of Number Using Recursion?"
   ]
  },
  {
   "cell_type": "code",
   "execution_count": 2,
   "id": "7c7ff89d",
   "metadata": {},
   "outputs": [],
   "source": [
    "mul=1\n",
    "def fact_rec(a):\n",
    "    try:\n",
    "        if a<0:\n",
    "            return 'No factorial value for negative number.'\n",
    "        elif a==0:\n",
    "            return 1\n",
    "        elif a==1:\n",
    "            return a\n",
    "        else:\n",
    "            return a*fact_rec(a-1)\n",
    "    except Exception as e:\n",
    "        print('Error msg: {}'.format(e))"
   ]
  },
  {
   "cell_type": "code",
   "execution_count": 8,
   "id": "ea15cb40",
   "metadata": {},
   "outputs": [
    {
     "data": {
      "text/plain": [
       "120"
      ]
     },
     "execution_count": 8,
     "metadata": {},
     "output_type": "execute_result"
    }
   ],
   "source": [
    "fact_rec(5)"
   ]
  },
  {
   "cell_type": "markdown",
   "id": "e5519da7",
   "metadata": {},
   "source": [
    "### 3.\tWrite a Python Program to calculate your Body Mass Index?"
   ]
  },
  {
   "cell_type": "code",
   "execution_count": 9,
   "id": "8cb85b05",
   "metadata": {},
   "outputs": [],
   "source": [
    "def bmi():\n",
    "    try:\n",
    "        height=float(input(\"Enter the height in metres: \"))\n",
    "        weight=float(input('Enter the weight in Kg: '))\n",
    "        bmi_val=weight/(height**2)\n",
    "        return bmi_val\n",
    "    except Exception as e:\n",
    "        print('Error msg: {}'.format(e))"
   ]
  },
  {
   "cell_type": "code",
   "execution_count": 11,
   "id": "e6c4ffee",
   "metadata": {},
   "outputs": [
    {
     "name": "stdout",
     "output_type": "stream",
     "text": [
      "Enter the height in metres: 1.68\n",
      "Enter the weight in Kg: 56\n"
     ]
    },
    {
     "data": {
      "text/plain": [
       "19.841269841269845"
      ]
     },
     "execution_count": 11,
     "metadata": {},
     "output_type": "execute_result"
    }
   ],
   "source": [
    "bmi()"
   ]
  },
  {
   "cell_type": "markdown",
   "id": "fd32b51a",
   "metadata": {},
   "source": [
    "### 4.\tWrite a Python Program to calculate the natural logarithm of any number?"
   ]
  },
  {
   "cell_type": "code",
   "execution_count": 12,
   "id": "9ce4148b",
   "metadata": {},
   "outputs": [],
   "source": [
    "import math\n",
    "def natural_number(a):\n",
    "    return math.log(a)"
   ]
  },
  {
   "cell_type": "code",
   "execution_count": 13,
   "id": "5a3dbac2",
   "metadata": {},
   "outputs": [
    {
     "data": {
      "text/plain": [
       "1.6094379124341003"
      ]
     },
     "execution_count": 13,
     "metadata": {},
     "output_type": "execute_result"
    }
   ],
   "source": [
    "natural_number(5)"
   ]
  },
  {
   "cell_type": "markdown",
   "id": "85bb8f93",
   "metadata": {},
   "source": [
    "### 5.\tWrite a Python Program for cube sum of first n natural numbers?"
   ]
  },
  {
   "cell_type": "code",
   "execution_count": 14,
   "id": "9f6585a0",
   "metadata": {},
   "outputs": [],
   "source": [
    "def cube_sum(a):\n",
    "    summ=0\n",
    "    try:\n",
    "        for i in range(1,a+1):\n",
    "            summ+=i**3\n",
    "        return summ\n",
    "    except Exception as e:\n",
    "        print('Error msg: {}'.format(e))"
   ]
  },
  {
   "cell_type": "code",
   "execution_count": 15,
   "id": "143e1a74",
   "metadata": {},
   "outputs": [
    {
     "data": {
      "text/plain": [
       "36"
      ]
     },
     "execution_count": 15,
     "metadata": {},
     "output_type": "execute_result"
    }
   ],
   "source": [
    "cube_sum(3)"
   ]
  },
  {
   "cell_type": "code",
   "execution_count": null,
   "id": "6cbb1539",
   "metadata": {},
   "outputs": [],
   "source": []
  }
 ],
 "metadata": {
  "kernelspec": {
   "display_name": "Python 3 (ipykernel)",
   "language": "python",
   "name": "python3"
  },
  "language_info": {
   "codemirror_mode": {
    "name": "ipython",
    "version": 3
   },
   "file_extension": ".py",
   "mimetype": "text/x-python",
   "name": "python",
   "nbconvert_exporter": "python",
   "pygments_lexer": "ipython3",
   "version": "3.9.7"
  }
 },
 "nbformat": 4,
 "nbformat_minor": 5
}
