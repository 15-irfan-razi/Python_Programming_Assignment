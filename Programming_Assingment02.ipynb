{
 "cells": [
  {
   "cell_type": "markdown",
   "id": "31fc48f3",
   "metadata": {},
   "source": [
    "### 1.\tWrite a Python program to convert kilometers to miles?"
   ]
  },
  {
   "cell_type": "code",
   "execution_count": 1,
   "id": "cf717e91",
   "metadata": {},
   "outputs": [
    {
     "name": "stdout",
     "output_type": "stream",
     "text": [
      "Enter a number in kilometers: 5\n",
      "5 km is equal to 3.106855 miles.\n"
     ]
    }
   ],
   "source": [
    "a=int(input('Enter a number in kilometers: '))\n",
    "print('{} km is equal to {} miles.'.format(a,a*0.621371))"
   ]
  },
  {
   "cell_type": "markdown",
   "id": "0b7322c2",
   "metadata": {},
   "source": [
    "### 2.\tWrite a Python program to convert Celsius to Fahrenheit?"
   ]
  },
  {
   "cell_type": "code",
   "execution_count": 2,
   "id": "1ee1c072",
   "metadata": {},
   "outputs": [
    {
     "name": "stdout",
     "output_type": "stream",
     "text": [
      "Enter a number in Celsius: 1\n",
      "1 degree celsius is equal to 33.8 Fahrenheit.\n"
     ]
    }
   ],
   "source": [
    "a=int(input('Enter a number in Celsius: '))\n",
    "print('{} degree celsius is equal to {} Fahrenheit.'.format(a,(a*(9/5)+32)))"
   ]
  },
  {
   "cell_type": "markdown",
   "id": "a29845a8",
   "metadata": {},
   "source": [
    "### 3.\tWrite a Python program to display calendar?"
   ]
  },
  {
   "cell_type": "code",
   "execution_count": 3,
   "id": "cbac6632",
   "metadata": {},
   "outputs": [
    {
     "name": "stdout",
     "output_type": "stream",
     "text": [
      "   February 2022\n",
      "Mo Tu We Th Fr Sa Su\n",
      "    1  2  3  4  5  6\n",
      " 7  8  9 10 11 12 13\n",
      "14 15 16 17 18 19 20\n",
      "21 22 23 24 25 26 27\n",
      "28\n",
      "\n"
     ]
    }
   ],
   "source": [
    "import calendar\n",
    "\n",
    "year=2022\n",
    "mnth=2\n",
    "\n",
    "print(calendar.month(year,mnth))"
   ]
  },
  {
   "cell_type": "markdown",
   "id": "b3ff0074",
   "metadata": {},
   "source": [
    "### 4.\tWrite a Python program to solve quadratic equation?"
   ]
  },
  {
   "cell_type": "code",
   "execution_count": 9,
   "id": "89f16e9d",
   "metadata": {},
   "outputs": [
    {
     "name": "stdout",
     "output_type": "stream",
     "text": [
      "Enter a in format of ax2+bx+c=0: 1\n",
      "Enter b in format of ax2+bx+c=0: 2\n",
      "Enter c in format of ax2+bx+c=0: 1\n",
      "Alpha: -1.0. Beta is -1.0.\n"
     ]
    }
   ],
   "source": [
    "import math\n",
    "a=int(input('Enter a in format of ax2+bx+c=0: '))\n",
    "b=int(input('Enter b in format of ax2+bx+c=0: '))\n",
    "c=int(input('Enter c in format of ax2+bx+c=0: '))\n",
    "\n",
    "alpha= (-b-math.sqrt((b**2) - (4*a*c)))/(2*a)\n",
    "beta= (-b+math.sqrt((b**2) - (4*a*c)))/(2*a)\n",
    "\n",
    "print('Alpha: {}. Beta is {}.'.format(alpha,beta))"
   ]
  },
  {
   "cell_type": "markdown",
   "id": "1470ffa5",
   "metadata": {},
   "source": [
    "### 5.\tWrite a Python program to swap two variables without temp variable?"
   ]
  },
  {
   "cell_type": "code",
   "execution_count": 10,
   "id": "3d5d8429",
   "metadata": {},
   "outputs": [],
   "source": [
    "def swap(a,b):\n",
    "    a,b=b,a\n",
    "    return a,b"
   ]
  },
  {
   "cell_type": "code",
   "execution_count": 11,
   "id": "8182c0c3",
   "metadata": {},
   "outputs": [
    {
     "data": {
      "text/plain": [
       "(4, 3)"
      ]
     },
     "execution_count": 11,
     "metadata": {},
     "output_type": "execute_result"
    }
   ],
   "source": [
    "swap(3,4)"
   ]
  },
  {
   "cell_type": "code",
   "execution_count": null,
   "id": "04e2d7d7",
   "metadata": {},
   "outputs": [],
   "source": []
  }
 ],
 "metadata": {
  "kernelspec": {
   "display_name": "Python 3 (ipykernel)",
   "language": "python",
   "name": "python3"
  },
  "language_info": {
   "codemirror_mode": {
    "name": "ipython",
    "version": 3
   },
   "file_extension": ".py",
   "mimetype": "text/x-python",
   "name": "python",
   "nbconvert_exporter": "python",
   "pygments_lexer": "ipython3",
   "version": "3.9.7"
  }
 },
 "nbformat": 4,
 "nbformat_minor": 5
}
