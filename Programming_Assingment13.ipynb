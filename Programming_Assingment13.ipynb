{
 "cells": [
  {
   "cell_type": "markdown",
   "id": "a682a3c9",
   "metadata": {},
   "source": [
    "### Question 1:\n",
    "\n",
    "### Write a program that calculates and prints the value according to the given formula:\n",
    "\n",
    "Q = Square root of [(2 * C * D)/H]\n",
    "\n",
    "Following are the fixed values of C and H:\n",
    "\n",
    "C is 50. H is 30.\n",
    "\n",
    "D is the variable whose values should be input to your program in a comma-separated sequence.\n",
    "\n",
    "Example\n",
    "\n",
    "Let us assume the following comma separated input sequence is given to the program:\n",
    "\n",
    "100,150,180\n",
    "\n",
    "The output of the program should be:\n",
    "\n",
    "18,22,24\n"
   ]
  },
  {
   "cell_type": "code",
   "execution_count": 22,
   "id": "17930ce9",
   "metadata": {},
   "outputs": [],
   "source": [
    "import numpy as np\n",
    "def cal(D):\n",
    "    try:\n",
    "        C=50\n",
    "        H=30\n",
    "        Q = np.round(np.sqrt([(2*C*D)/H]))\n",
    "        return Q\n",
    "    except Exception as e:\n",
    "        print(\"Error msg: \",e)"
   ]
  },
  {
   "cell_type": "code",
   "execution_count": 23,
   "id": "a7133942",
   "metadata": {},
   "outputs": [],
   "source": [
    "lst=(100,150,180)"
   ]
  },
  {
   "cell_type": "code",
   "execution_count": 26,
   "id": "5637e078",
   "metadata": {},
   "outputs": [
    {
     "data": {
      "text/plain": [
       "[array([18.]), array([22.]), array([24.])]"
      ]
     },
     "execution_count": 26,
     "metadata": {},
     "output_type": "execute_result"
    }
   ],
   "source": [
    "list(map(cal,lst))"
   ]
  },
  {
   "cell_type": "markdown",
   "id": "13a4f19b",
   "metadata": {},
   "source": [
    "### Question 2:\n",
    "### Write a program which takes 2 digits, X,Y as input and generates a 2-dimensional array. The element value in the i-th row and j-th column of the array should be i*j.\n",
    "\n",
    "Note: i=0,1.., X-1; j=0,1,¡¬Y-1.\n",
    "\n",
    "Example\n",
    "\n",
    "Suppose the following inputs are given to the program:\n",
    "\n",
    "3,5\n",
    "\n",
    "Then, the output of the program should be:\n",
    "\n",
    "[[0, 0, 0, 0, 0], [0, 1, 2, 3, 4], [0, 2, 4, 6, 8]] \n"
   ]
  },
  {
   "cell_type": "code",
   "execution_count": 41,
   "id": "fe9c35b2",
   "metadata": {},
   "outputs": [],
   "source": [
    "import numpy as np\n",
    "def array(rows,cols):\n",
    "    try:\n",
    "        arr=np.zeros((rows,cols))\n",
    "        for i in range(rows):\n",
    "            for j in range(cols):\n",
    "                arr[i][j]=i*j\n",
    "        return arr\n",
    "    except Exception as e:\n",
    "        print(\"Error msg: \",e)"
   ]
  },
  {
   "cell_type": "code",
   "execution_count": 42,
   "id": "54337550",
   "metadata": {},
   "outputs": [
    {
     "data": {
      "text/plain": [
       "array([[0., 0., 0., 0., 0.],\n",
       "       [0., 1., 2., 3., 4.],\n",
       "       [0., 2., 4., 6., 8.]])"
      ]
     },
     "execution_count": 42,
     "metadata": {},
     "output_type": "execute_result"
    }
   ],
   "source": [
    "array(3,5)"
   ]
  },
  {
   "cell_type": "markdown",
   "id": "4def030a",
   "metadata": {},
   "source": [
    "### Question 3:\n",
    "### Write a program that accepts a comma separated sequence of words as input and prints the words in a comma-separated sequence after sorting them alphabetically.\n",
    "\n",
    "Suppose the following input is supplied to the program:\n",
    "\n",
    "without,hello,bag,world\n",
    "\n",
    "Then, the output should be:\n",
    "\n",
    "bag,hello,without,world\n"
   ]
  },
  {
   "cell_type": "code",
   "execution_count": 52,
   "id": "6b346afd",
   "metadata": {},
   "outputs": [],
   "source": [
    "def sort_str(a):\n",
    "    try:\n",
    "        lst=a.split(',')\n",
    "        new=sorted(lst)\n",
    "        new1=','.join(new)\n",
    "        return new1\n",
    "    except Exception as e:\n",
    "        print(\"Error msg: \",e)"
   ]
  },
  {
   "cell_type": "code",
   "execution_count": 53,
   "id": "d2fc0264",
   "metadata": {},
   "outputs": [
    {
     "data": {
      "text/plain": [
       "'bag,hello,without,world'"
      ]
     },
     "execution_count": 53,
     "metadata": {},
     "output_type": "execute_result"
    }
   ],
   "source": [
    "sort_str('without,hello,bag,world')"
   ]
  },
  {
   "cell_type": "markdown",
   "id": "8d381b34",
   "metadata": {},
   "source": [
    "### Question 4:\n",
    "### Write a program that accepts a sequence of whitespace separated words as input and prints the words after removing all duplicate words and sorting them alphanumerically.\n",
    "\n",
    "Suppose the following input is supplied to the program:\n",
    "\n",
    "hello world and practice makes perfect and hello world again\n",
    "\n",
    "Then, the output should be:\n",
    "\n",
    "again and hello makes perfect practice world\n"
   ]
  },
  {
   "cell_type": "code",
   "execution_count": 78,
   "id": "e5339a76",
   "metadata": {},
   "outputs": [],
   "source": [
    "def sort_str1(a):\n",
    "    try:\n",
    "        lst=a.split(' ')\n",
    "        new=sorted(set(lst))\n",
    "        new1=' '.join(new)\n",
    "        return new1\n",
    "    except Exception as e:\n",
    "        print(\"Error msg: \",e)"
   ]
  },
  {
   "cell_type": "code",
   "execution_count": 79,
   "id": "838e3390",
   "metadata": {},
   "outputs": [
    {
     "data": {
      "text/plain": [
       "'again and hello makes perfect practice world'"
      ]
     },
     "execution_count": 79,
     "metadata": {},
     "output_type": "execute_result"
    }
   ],
   "source": [
    "sort_str1('hello world and practice makes perfect and hello world again')"
   ]
  },
  {
   "cell_type": "markdown",
   "id": "a23145a6",
   "metadata": {},
   "source": [
    "### Question 5:\n",
    "### Write a program that accepts a sentence and calculate the number of letters and digits.\n",
    "\n",
    "Suppose the following input is supplied to the program:\n",
    "\n",
    "hello world! 123\n",
    "\n",
    "Then, the output should be:\n",
    "\n",
    "LETTERS 10\n",
    "\n",
    "DIGITS 3\n"
   ]
  },
  {
   "cell_type": "code",
   "execution_count": 82,
   "id": "c478ed3b",
   "metadata": {},
   "outputs": [],
   "source": [
    "def count_str(a):\n",
    "    try:\n",
    "        letters='qwertyuioplkjhgfdsazxcvbnmQWERTYUIOPLKJHGFDSAZXCVBNM'\n",
    "        numbers='1234567890'\n",
    "        count1=0\n",
    "        count2=0\n",
    "        \n",
    "        for i in a:\n",
    "            if i in letters:\n",
    "                count1+=1\n",
    "            if i in numbers:\n",
    "                count2+=1\n",
    "                \n",
    "        print(\"LETTERS\",count1)\n",
    "        print(\"DIGITS\", count2)\n",
    "        \n",
    "    except Exception as e:\n",
    "        print(\"Error msg: \",e)"
   ]
  },
  {
   "cell_type": "code",
   "execution_count": 83,
   "id": "12a33d9c",
   "metadata": {},
   "outputs": [
    {
     "name": "stdout",
     "output_type": "stream",
     "text": [
      "LETTERS 10\n",
      "DIGITS 3\n"
     ]
    }
   ],
   "source": [
    "count_str('hello world! 123')"
   ]
  },
  {
   "cell_type": "markdown",
   "id": "0eb30327",
   "metadata": {},
   "source": [
    "### Question 6:\n",
    "### A website requires the users to input username and password to register. Write a program to check the validity of password input by users.\n",
    "\n",
    "Following are the criteria for checking the password:\n",
    "\n",
    "1. At least 1 letter between [a-z]\n",
    "\n",
    "2. At least 1 number between [0-9]\n",
    "\n",
    "1. At least 1 letter between [A-Z]\n",
    "\n",
    "3. At least 1 character from [$#@]\n",
    "\n",
    "4. Minimum length of transaction password: 6\n",
    "\n",
    "5. Maximum length of transaction password: 12\n",
    "\n",
    "Your program should accept a sequence of comma separated passwords and will check them according to the above criteria. Passwords that match the criteria are to be printed, each separated by a comma.\n",
    "\n",
    "Example\n",
    "\n",
    "If the following passwords are given as input to the program:\n",
    "\n",
    "ABd1234@1,a F1#,2w3E*,2We3345\n",
    "\n",
    "Then, the output of the program should be:\n",
    "\n",
    "ABd1234@1\n"
   ]
  },
  {
   "cell_type": "code",
   "execution_count": 106,
   "id": "499065e2",
   "metadata": {},
   "outputs": [],
   "source": [
    "def password(a):\n",
    "    try:\n",
    "        C1='qwertyuioplkjhgfdsazxcvbnm'\n",
    "        C2='QWERTYUIOPLKJHGFDSAZXCVBNM'\n",
    "        C3='1234567890'\n",
    "        C4='$#@'\n",
    "        C5=6\n",
    "        C6=12\n",
    "        \n",
    "        count1=0\n",
    "        count2=0\n",
    "        count3=0\n",
    "        count4=0\n",
    "        \n",
    "        if (len(a)>5 and len(a)<13):\n",
    "            \n",
    "            for i in a:\n",
    "                if i in C1:\n",
    "                    count1+=1\n",
    "                elif i in C2:\n",
    "                    count2+=1\n",
    "                elif i in C3:\n",
    "                    count3+=1\n",
    "                elif i in C4:\n",
    "                    count4+=1\n",
    "                    \n",
    "        if (count1>0 and count2>0 and count3>0 and count4>0 and len(a)==(count1+count2+count3+count4)):\n",
    "            return a\n",
    "    except Exception as e:\n",
    "        print(\"Error msg: \",e)"
   ]
  },
  {
   "cell_type": "code",
   "execution_count": 107,
   "id": "f5a95423",
   "metadata": {},
   "outputs": [
    {
     "data": {
      "text/plain": [
       "'ABd1234@1'"
      ]
     },
     "execution_count": 107,
     "metadata": {},
     "output_type": "execute_result"
    }
   ],
   "source": [
    "password('ABd1234@1')"
   ]
  },
  {
   "cell_type": "code",
   "execution_count": 108,
   "id": "5b56caa1",
   "metadata": {},
   "outputs": [],
   "source": [
    "lst=['ABd1234@1','a F1#','2w3E*','2We3345']"
   ]
  },
  {
   "cell_type": "code",
   "execution_count": 109,
   "id": "8be45da0",
   "metadata": {},
   "outputs": [
    {
     "data": {
      "text/plain": [
       "['ABd1234@1', None, None, None]"
      ]
     },
     "execution_count": 109,
     "metadata": {},
     "output_type": "execute_result"
    }
   ],
   "source": [
    "list(map(password,lst))"
   ]
  }
 ],
 "metadata": {
  "kernelspec": {
   "display_name": "Python 3 (ipykernel)",
   "language": "python",
   "name": "python3"
  },
  "language_info": {
   "codemirror_mode": {
    "name": "ipython",
    "version": 3
   },
   "file_extension": ".py",
   "mimetype": "text/x-python",
   "name": "python",
   "nbconvert_exporter": "python",
   "pygments_lexer": "ipython3",
   "version": "3.9.7"
  }
 },
 "nbformat": 4,
 "nbformat_minor": 5
}
