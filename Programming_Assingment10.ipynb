{
 "cells": [
  {
   "cell_type": "markdown",
   "id": "665d8f3a",
   "metadata": {},
   "source": [
    "### 1.\tWrite a Python program to find sum of elements in list?"
   ]
  },
  {
   "cell_type": "code",
   "execution_count": 7,
   "id": "b4b650f9",
   "metadata": {},
   "outputs": [],
   "source": [
    "def sum_lst(a):\n",
    "    try:\n",
    "        summ=0\n",
    "        for i in range(len(a)):\n",
    "            summ+=a[i]\n",
    "        return summ\n",
    "    except Exception as e:\n",
    "        print('Error msg: {}'.format(e))"
   ]
  },
  {
   "cell_type": "code",
   "execution_count": 8,
   "id": "97435b84",
   "metadata": {},
   "outputs": [],
   "source": [
    "lst=[1,5,21,54,101,12]"
   ]
  },
  {
   "cell_type": "code",
   "execution_count": 9,
   "id": "1f0444c4",
   "metadata": {},
   "outputs": [
    {
     "data": {
      "text/plain": [
       "194"
      ]
     },
     "execution_count": 9,
     "metadata": {},
     "output_type": "execute_result"
    }
   ],
   "source": [
    "sum_lst(lst)"
   ]
  },
  {
   "cell_type": "markdown",
   "id": "af794b83",
   "metadata": {},
   "source": [
    "### 2.\tWrite a Python program to  Multiply all numbers in the list?"
   ]
  },
  {
   "cell_type": "code",
   "execution_count": 4,
   "id": "617b997a",
   "metadata": {},
   "outputs": [],
   "source": [
    "def mul_lst(a):\n",
    "    try:\n",
    "        mul=1\n",
    "        for i in range(len(a)):\n",
    "            mul*=a[i]\n",
    "        return mul\n",
    "    except Exception as e:\n",
    "        print('Error msg: {}'.format(e))"
   ]
  },
  {
   "cell_type": "code",
   "execution_count": 5,
   "id": "b7f6a060",
   "metadata": {},
   "outputs": [],
   "source": [
    "lst=[1,5,21,54,101,12]"
   ]
  },
  {
   "cell_type": "code",
   "execution_count": 6,
   "id": "21b18d0d",
   "metadata": {},
   "outputs": [
    {
     "data": {
      "text/plain": [
       "6872040"
      ]
     },
     "execution_count": 6,
     "metadata": {},
     "output_type": "execute_result"
    }
   ],
   "source": [
    "mul_lst(lst)"
   ]
  },
  {
   "cell_type": "markdown",
   "id": "43ff49a1",
   "metadata": {},
   "source": [
    "### 3.\tWrite a Python program to find smallest number in a list?"
   ]
  },
  {
   "cell_type": "code",
   "execution_count": 10,
   "id": "ab0d66a3",
   "metadata": {},
   "outputs": [],
   "source": [
    "def small_num(a):\n",
    "    try:\n",
    "        small=a[0]\n",
    "        for i in range(len(a)):\n",
    "            if small>a[i]:\n",
    "                small=a[i]\n",
    "        return small\n",
    "    except Exception as e:\n",
    "        print('Error msg: {}'.format(e))"
   ]
  },
  {
   "cell_type": "code",
   "execution_count": 13,
   "id": "16ee3b21",
   "metadata": {},
   "outputs": [],
   "source": [
    "lst=[5,21,54,1,-9,101,12]"
   ]
  },
  {
   "cell_type": "code",
   "execution_count": 14,
   "id": "c702264c",
   "metadata": {},
   "outputs": [
    {
     "data": {
      "text/plain": [
       "-9"
      ]
     },
     "execution_count": 14,
     "metadata": {},
     "output_type": "execute_result"
    }
   ],
   "source": [
    "small_num(lst)"
   ]
  },
  {
   "cell_type": "markdown",
   "id": "d18b9a15",
   "metadata": {},
   "source": [
    "### 4.\tWrite a Python program to find largest number in a list?"
   ]
  },
  {
   "cell_type": "code",
   "execution_count": 15,
   "id": "b1b4db2b",
   "metadata": {},
   "outputs": [],
   "source": [
    "def large_num(a):\n",
    "    try:\n",
    "        large=a[0]\n",
    "        for i in range(len(a)):\n",
    "            if large<a[i]:\n",
    "                large=a[i]\n",
    "        return large\n",
    "    except Exception as e:\n",
    "        print('Error msg: {}'.format(e))"
   ]
  },
  {
   "cell_type": "code",
   "execution_count": 16,
   "id": "472a8e49",
   "metadata": {},
   "outputs": [],
   "source": [
    "lst=[5,21,54,1,-9,101,12]"
   ]
  },
  {
   "cell_type": "code",
   "execution_count": 17,
   "id": "6d030f06",
   "metadata": {},
   "outputs": [
    {
     "data": {
      "text/plain": [
       "101"
      ]
     },
     "execution_count": 17,
     "metadata": {},
     "output_type": "execute_result"
    }
   ],
   "source": [
    "large_num(lst)"
   ]
  },
  {
   "cell_type": "markdown",
   "id": "7789a6b5",
   "metadata": {},
   "source": [
    "### 5.\tWrite a Python program to find second largest number in a list?"
   ]
  },
  {
   "cell_type": "code",
   "execution_count": 20,
   "id": "c4ae8a19",
   "metadata": {},
   "outputs": [],
   "source": [
    "def second_large_num(a):\n",
    "    try:\n",
    "        large=a[0]\n",
    "        for i in range(len(a)):\n",
    "            if large<a[i]:\n",
    "                second_large=large\n",
    "                large=a[i]\n",
    "        return second_large\n",
    "    except Exception as e:\n",
    "        print('Error msg: {}'.format(e))"
   ]
  },
  {
   "cell_type": "code",
   "execution_count": 21,
   "id": "1eb3675a",
   "metadata": {},
   "outputs": [],
   "source": [
    "lst=[5,21,54,1,-9,101,12]"
   ]
  },
  {
   "cell_type": "code",
   "execution_count": 22,
   "id": "01520635",
   "metadata": {},
   "outputs": [
    {
     "data": {
      "text/plain": [
       "54"
      ]
     },
     "execution_count": 22,
     "metadata": {},
     "output_type": "execute_result"
    }
   ],
   "source": [
    "second_large_num(lst)"
   ]
  },
  {
   "cell_type": "markdown",
   "id": "22a72600",
   "metadata": {},
   "source": [
    "### 6.\tWrite a Python program to find N largest elements from a list?"
   ]
  },
  {
   "cell_type": "code",
   "execution_count": 26,
   "id": "1dabee24",
   "metadata": {},
   "outputs": [],
   "source": [
    "def n_large_num(a,n):\n",
    "    try:\n",
    "        sort_num=[]\n",
    "        for i in range(n):\n",
    "            large=a[0]\n",
    "            for j in range(len(a)):\n",
    "                if large<a[j]:\n",
    "                    large=a[j]\n",
    "            sort_num.append(large)\n",
    "            a.remove(large)\n",
    "        return sort_num\n",
    "    except Exception as e:\n",
    "        print('Error msg: {}'.format(e))"
   ]
  },
  {
   "cell_type": "code",
   "execution_count": 27,
   "id": "85e902dd",
   "metadata": {},
   "outputs": [],
   "source": [
    "lst=[5,21,54,1,-9,101,12,58,75,22]"
   ]
  },
  {
   "cell_type": "code",
   "execution_count": 28,
   "id": "3c5068d4",
   "metadata": {},
   "outputs": [
    {
     "data": {
      "text/plain": [
       "[101, 75, 58, 54, 22]"
      ]
     },
     "execution_count": 28,
     "metadata": {},
     "output_type": "execute_result"
    }
   ],
   "source": [
    "n_large_num(lst,5)"
   ]
  },
  {
   "cell_type": "markdown",
   "id": "9301ce23",
   "metadata": {},
   "source": [
    "### 7.\tWrite a Python program to print even numbers in a list?"
   ]
  },
  {
   "cell_type": "code",
   "execution_count": 31,
   "id": "05fa1e2f",
   "metadata": {},
   "outputs": [],
   "source": [
    "def even_num(a):\n",
    "    try:\n",
    "        lst=[]\n",
    "        for i in a:\n",
    "            if i%2==0:\n",
    "                lst.append(i)\n",
    "        return lst\n",
    "    except Exception as e:\n",
    "        print('Error msg: {}'.format(e))"
   ]
  },
  {
   "cell_type": "code",
   "execution_count": 32,
   "id": "b7e24a0f",
   "metadata": {},
   "outputs": [],
   "source": [
    "lst=[5,21,54,1,-9,101,12,58,75,22]"
   ]
  },
  {
   "cell_type": "code",
   "execution_count": 33,
   "id": "af765cdb",
   "metadata": {},
   "outputs": [
    {
     "data": {
      "text/plain": [
       "[54, 12, 58, 22]"
      ]
     },
     "execution_count": 33,
     "metadata": {},
     "output_type": "execute_result"
    }
   ],
   "source": [
    "even_num(lst)"
   ]
  },
  {
   "cell_type": "markdown",
   "id": "92364a08",
   "metadata": {},
   "source": [
    "### 8.\tWrite a Python program to print odd numbers in a List?"
   ]
  },
  {
   "cell_type": "code",
   "execution_count": 34,
   "id": "ccac323b",
   "metadata": {},
   "outputs": [],
   "source": [
    "def odd_num(a):\n",
    "    try:\n",
    "        lst=[]\n",
    "        for i in a:\n",
    "            if i%2!=0:\n",
    "                lst.append(i)\n",
    "        return lst\n",
    "    except Exception as e:\n",
    "        print('Error msg: {}'.format(e))"
   ]
  },
  {
   "cell_type": "code",
   "execution_count": 35,
   "id": "7138a000",
   "metadata": {},
   "outputs": [],
   "source": [
    "lst=[5,21,54,1,-9,101,12,58,75,22]"
   ]
  },
  {
   "cell_type": "code",
   "execution_count": 36,
   "id": "9d1b93a4",
   "metadata": {},
   "outputs": [
    {
     "data": {
      "text/plain": [
       "[5, 21, 1, -9, 101, 75]"
      ]
     },
     "execution_count": 36,
     "metadata": {},
     "output_type": "execute_result"
    }
   ],
   "source": [
    "odd_num(lst)"
   ]
  },
  {
   "cell_type": "markdown",
   "id": "0205404f",
   "metadata": {},
   "source": [
    "### 9.\tWrite a Python program to Remove empty List from List?"
   ]
  },
  {
   "cell_type": "code",
   "execution_count": 37,
   "id": "9a2e653d",
   "metadata": {},
   "outputs": [],
   "source": [
    "def empty_list(a):\n",
    "    try:\n",
    "        for i in a:\n",
    "            if len(i)==0:\n",
    "                a.remove(i)\n",
    "        return a\n",
    "    except Exception as e:\n",
    "        print('Error msg: {}'.format(e))"
   ]
  },
  {
   "cell_type": "code",
   "execution_count": 38,
   "id": "27c32c5e",
   "metadata": {},
   "outputs": [],
   "source": [
    "lst=[[1,2,3],[],['irfan','razi'],[1+2j, 5+5j, 'irfan'],[],[{'irfan':'razi','mahesh':'kumar'}]]"
   ]
  },
  {
   "cell_type": "code",
   "execution_count": 39,
   "id": "cf085017",
   "metadata": {},
   "outputs": [
    {
     "data": {
      "text/plain": [
       "[[1, 2, 3],\n",
       " ['irfan', 'razi'],\n",
       " [(1+2j), (5+5j), 'irfan'],\n",
       " [{'irfan': 'razi', 'mahesh': 'kumar'}]]"
      ]
     },
     "execution_count": 39,
     "metadata": {},
     "output_type": "execute_result"
    }
   ],
   "source": [
    "empty_list(lst)"
   ]
  },
  {
   "cell_type": "markdown",
   "id": "036bb5d1",
   "metadata": {},
   "source": [
    "### 10.\tWrite a Python program to Cloning or Copying a list?"
   ]
  },
  {
   "cell_type": "code",
   "execution_count": 56,
   "id": "1a763ee5",
   "metadata": {},
   "outputs": [],
   "source": [
    "def copy_list(a):\n",
    "    try:\n",
    "        new_lst=[]\n",
    "        for i in a:\n",
    "            new_lst.append(i)\n",
    "        return new_lst\n",
    "    except Exception as e:\n",
    "        print('Error msg: {}'.format(e))"
   ]
  },
  {
   "cell_type": "code",
   "execution_count": 57,
   "id": "f4beb29e",
   "metadata": {},
   "outputs": [],
   "source": [
    "lst=[[1,2,3],[],['irfan','razi'],[1+2j, 5+5j, 'irfan'],[],[{'irfan':'razi','mahesh':'kumar'}]]"
   ]
  },
  {
   "cell_type": "code",
   "execution_count": 58,
   "id": "19e0667a",
   "metadata": {},
   "outputs": [],
   "source": [
    "new_list=copy_list(lst)"
   ]
  },
  {
   "cell_type": "code",
   "execution_count": 59,
   "id": "8fabcd0d",
   "metadata": {},
   "outputs": [
    {
     "data": {
      "text/plain": [
       "[[1, 2, 3],\n",
       " [],\n",
       " ['irfan', 'razi'],\n",
       " [(1+2j), (5+5j), 'irfan'],\n",
       " [],\n",
       " [{'irfan': 'razi', 'mahesh': 'kumar'}]]"
      ]
     },
     "execution_count": 59,
     "metadata": {},
     "output_type": "execute_result"
    }
   ],
   "source": [
    "new_list"
   ]
  },
  {
   "cell_type": "markdown",
   "id": "f51856fd",
   "metadata": {},
   "source": [
    "### 11.\tWrite a Python program to Count occurrences of an element in a list?"
   ]
  },
  {
   "cell_type": "code",
   "execution_count": 76,
   "id": "8a0901cf",
   "metadata": {},
   "outputs": [],
   "source": [
    "def occur(a):\n",
    "    try:\n",
    "        elements=[]\n",
    "        for i in a:\n",
    "            elements.append(i)\n",
    "        elements=set(elements)\n",
    "        \n",
    "        d={}\n",
    "        for i in elements:\n",
    "            d[i]=a.count(i)\n",
    "        return d\n",
    "    \n",
    "    except Exception as e:\n",
    "        print('Error msg: {}'.format(e))"
   ]
  },
  {
   "cell_type": "code",
   "execution_count": 77,
   "id": "3af99ec6",
   "metadata": {},
   "outputs": [],
   "source": [
    "lst=[5,21,54,1,5,11,12,11,21,22,22,'irfan','razi','irfan',1+2j]"
   ]
  },
  {
   "cell_type": "code",
   "execution_count": 78,
   "id": "65a48910",
   "metadata": {},
   "outputs": [
    {
     "data": {
      "text/plain": [
       "{1: 1,\n",
       " 'irfan': 2,\n",
       " 5: 2,\n",
       " 'razi': 1,\n",
       " (1+2j): 1,\n",
       " 11: 2,\n",
       " 12: 1,\n",
       " 21: 2,\n",
       " 54: 1,\n",
       " 22: 2}"
      ]
     },
     "execution_count": 78,
     "metadata": {},
     "output_type": "execute_result"
    }
   ],
   "source": [
    "occur(lst)"
   ]
  }
 ],
 "metadata": {
  "kernelspec": {
   "display_name": "Python 3 (ipykernel)",
   "language": "python",
   "name": "python3"
  },
  "language_info": {
   "codemirror_mode": {
    "name": "ipython",
    "version": 3
   },
   "file_extension": ".py",
   "mimetype": "text/x-python",
   "name": "python",
   "nbconvert_exporter": "python",
   "pygments_lexer": "ipython3",
   "version": "3.9.7"
  }
 },
 "nbformat": 4,
 "nbformat_minor": 5
}
